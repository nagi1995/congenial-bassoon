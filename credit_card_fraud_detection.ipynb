{
 "cells": [
  {
   "cell_type": "markdown",
   "metadata": {
    "id": "2mNmPu_3j7HD"
   },
   "source": [
    "# Importing libraries and downloading data"
   ]
  },
  {
   "cell_type": "code",
   "execution_count": null,
   "metadata": {
    "id": "T5aBv2EyhhcR"
   },
   "outputs": [],
   "source": [
    "from google.colab import files\n",
    "files.upload()"
   ]
  },
  {
   "cell_type": "code",
   "execution_count": 2,
   "metadata": {
    "id": "6PWXlH59htE_"
   },
   "outputs": [],
   "source": [
    "!mkdir -p ~/.kaggle\n",
    "!cp kaggle.json ~/.kaggle/\n",
    "# change permission\n",
    "!chmod 600 ~/.kaggle/kaggle.json"
   ]
  },
  {
   "cell_type": "code",
   "execution_count": 3,
   "metadata": {
    "colab": {
     "base_uri": "https://localhost:8080/"
    },
    "id": "bgygfgrciBoL",
    "outputId": "73df75ac-34d7-4fd9-a383-12cef301cb42"
   },
   "outputs": [
    {
     "name": "stdout",
     "output_type": "stream",
     "text": [
      "Downloading creditcardfraud.zip to /content\n",
      " 99% 65.0M/66.0M [00:02<00:00, 19.7MB/s]\n",
      "100% 66.0M/66.0M [00:02<00:00, 32.6MB/s]\n"
     ]
    }
   ],
   "source": [
    "!kaggle datasets download -d mlg-ulb/creditcardfraud"
   ]
  },
  {
   "cell_type": "code",
   "execution_count": 4,
   "metadata": {
    "colab": {
     "base_uri": "https://localhost:8080/"
    },
    "id": "0og96SpyiF94",
    "outputId": "c8ebb259-7262-4059-a86a-0f7efb829f1e"
   },
   "outputs": [
    {
     "name": "stdout",
     "output_type": "stream",
     "text": [
      "Archive:  /content/creditcardfraud.zip\n",
      "  inflating: /content/creditcard.csv  \n"
     ]
    }
   ],
   "source": [
    "!unzip \"/content/creditcardfraud.zip\" -d \"/content/\""
   ]
  },
  {
   "cell_type": "code",
   "execution_count": 34,
   "metadata": {
    "id": "n4oHrquait46"
   },
   "outputs": [],
   "source": [
    "%matplotlib inline\n",
    "from matplotlib import pyplot as plt\n",
    "import seaborn as sns\n",
    "import numpy as np\n",
    "import pandas as pd\n",
    "from sklearn.metrics import precision_recall_curve, auc, confusion_matrix, f1_score\n",
    "from sklearn.ensemble import RandomForestClassifier\n",
    "import xgboost as xgb\n",
    "from sklearn.model_selection import train_test_split, GridSearchCV, RandomizedSearchCV\n",
    "from imblearn.over_sampling import SMOTE\n",
    "from collections import Counter"
   ]
  },
  {
   "cell_type": "code",
   "execution_count": 2,
   "metadata": {
    "colab": {
     "base_uri": "https://localhost:8080/",
     "height": 226
    },
    "id": "BC1iN0rljD0w",
    "outputId": "a9f08113-cd02-4449-ead0-4d528e5fc215"
   },
   "outputs": [
    {
     "data": {
      "text/html": [
       "<div>\n",
       "<style scoped>\n",
       "    .dataframe tbody tr th:only-of-type {\n",
       "        vertical-align: middle;\n",
       "    }\n",
       "\n",
       "    .dataframe tbody tr th {\n",
       "        vertical-align: top;\n",
       "    }\n",
       "\n",
       "    .dataframe thead th {\n",
       "        text-align: right;\n",
       "    }\n",
       "</style>\n",
       "<table border=\"1\" class=\"dataframe\">\n",
       "  <thead>\n",
       "    <tr style=\"text-align: right;\">\n",
       "      <th></th>\n",
       "      <th>Time</th>\n",
       "      <th>V1</th>\n",
       "      <th>V2</th>\n",
       "      <th>V3</th>\n",
       "      <th>V4</th>\n",
       "      <th>V5</th>\n",
       "      <th>V6</th>\n",
       "      <th>V7</th>\n",
       "      <th>V8</th>\n",
       "      <th>V9</th>\n",
       "      <th>...</th>\n",
       "      <th>V21</th>\n",
       "      <th>V22</th>\n",
       "      <th>V23</th>\n",
       "      <th>V24</th>\n",
       "      <th>V25</th>\n",
       "      <th>V26</th>\n",
       "      <th>V27</th>\n",
       "      <th>V28</th>\n",
       "      <th>Amount</th>\n",
       "      <th>Class</th>\n",
       "    </tr>\n",
       "  </thead>\n",
       "  <tbody>\n",
       "    <tr>\n",
       "      <th>0</th>\n",
       "      <td>0.0</td>\n",
       "      <td>-1.359807</td>\n",
       "      <td>-0.072781</td>\n",
       "      <td>2.536347</td>\n",
       "      <td>1.378155</td>\n",
       "      <td>-0.338321</td>\n",
       "      <td>0.462388</td>\n",
       "      <td>0.239599</td>\n",
       "      <td>0.098698</td>\n",
       "      <td>0.363787</td>\n",
       "      <td>...</td>\n",
       "      <td>-0.018307</td>\n",
       "      <td>0.277838</td>\n",
       "      <td>-0.110474</td>\n",
       "      <td>0.066928</td>\n",
       "      <td>0.128539</td>\n",
       "      <td>-0.189115</td>\n",
       "      <td>0.133558</td>\n",
       "      <td>-0.021053</td>\n",
       "      <td>149.62</td>\n",
       "      <td>0</td>\n",
       "    </tr>\n",
       "    <tr>\n",
       "      <th>1</th>\n",
       "      <td>0.0</td>\n",
       "      <td>1.191857</td>\n",
       "      <td>0.266151</td>\n",
       "      <td>0.166480</td>\n",
       "      <td>0.448154</td>\n",
       "      <td>0.060018</td>\n",
       "      <td>-0.082361</td>\n",
       "      <td>-0.078803</td>\n",
       "      <td>0.085102</td>\n",
       "      <td>-0.255425</td>\n",
       "      <td>...</td>\n",
       "      <td>-0.225775</td>\n",
       "      <td>-0.638672</td>\n",
       "      <td>0.101288</td>\n",
       "      <td>-0.339846</td>\n",
       "      <td>0.167170</td>\n",
       "      <td>0.125895</td>\n",
       "      <td>-0.008983</td>\n",
       "      <td>0.014724</td>\n",
       "      <td>2.69</td>\n",
       "      <td>0</td>\n",
       "    </tr>\n",
       "    <tr>\n",
       "      <th>2</th>\n",
       "      <td>1.0</td>\n",
       "      <td>-1.358354</td>\n",
       "      <td>-1.340163</td>\n",
       "      <td>1.773209</td>\n",
       "      <td>0.379780</td>\n",
       "      <td>-0.503198</td>\n",
       "      <td>1.800499</td>\n",
       "      <td>0.791461</td>\n",
       "      <td>0.247676</td>\n",
       "      <td>-1.514654</td>\n",
       "      <td>...</td>\n",
       "      <td>0.247998</td>\n",
       "      <td>0.771679</td>\n",
       "      <td>0.909412</td>\n",
       "      <td>-0.689281</td>\n",
       "      <td>-0.327642</td>\n",
       "      <td>-0.139097</td>\n",
       "      <td>-0.055353</td>\n",
       "      <td>-0.059752</td>\n",
       "      <td>378.66</td>\n",
       "      <td>0</td>\n",
       "    </tr>\n",
       "    <tr>\n",
       "      <th>3</th>\n",
       "      <td>1.0</td>\n",
       "      <td>-0.966272</td>\n",
       "      <td>-0.185226</td>\n",
       "      <td>1.792993</td>\n",
       "      <td>-0.863291</td>\n",
       "      <td>-0.010309</td>\n",
       "      <td>1.247203</td>\n",
       "      <td>0.237609</td>\n",
       "      <td>0.377436</td>\n",
       "      <td>-1.387024</td>\n",
       "      <td>...</td>\n",
       "      <td>-0.108300</td>\n",
       "      <td>0.005274</td>\n",
       "      <td>-0.190321</td>\n",
       "      <td>-1.175575</td>\n",
       "      <td>0.647376</td>\n",
       "      <td>-0.221929</td>\n",
       "      <td>0.062723</td>\n",
       "      <td>0.061458</td>\n",
       "      <td>123.50</td>\n",
       "      <td>0</td>\n",
       "    </tr>\n",
       "    <tr>\n",
       "      <th>4</th>\n",
       "      <td>2.0</td>\n",
       "      <td>-1.158233</td>\n",
       "      <td>0.877737</td>\n",
       "      <td>1.548718</td>\n",
       "      <td>0.403034</td>\n",
       "      <td>-0.407193</td>\n",
       "      <td>0.095921</td>\n",
       "      <td>0.592941</td>\n",
       "      <td>-0.270533</td>\n",
       "      <td>0.817739</td>\n",
       "      <td>...</td>\n",
       "      <td>-0.009431</td>\n",
       "      <td>0.798278</td>\n",
       "      <td>-0.137458</td>\n",
       "      <td>0.141267</td>\n",
       "      <td>-0.206010</td>\n",
       "      <td>0.502292</td>\n",
       "      <td>0.219422</td>\n",
       "      <td>0.215153</td>\n",
       "      <td>69.99</td>\n",
       "      <td>0</td>\n",
       "    </tr>\n",
       "  </tbody>\n",
       "</table>\n",
       "<p>5 rows × 31 columns</p>\n",
       "</div>"
      ],
      "text/plain": [
       "   Time        V1        V2        V3        V4        V5        V6        V7  \\\n",
       "0   0.0 -1.359807 -0.072781  2.536347  1.378155 -0.338321  0.462388  0.239599   \n",
       "1   0.0  1.191857  0.266151  0.166480  0.448154  0.060018 -0.082361 -0.078803   \n",
       "2   1.0 -1.358354 -1.340163  1.773209  0.379780 -0.503198  1.800499  0.791461   \n",
       "3   1.0 -0.966272 -0.185226  1.792993 -0.863291 -0.010309  1.247203  0.237609   \n",
       "4   2.0 -1.158233  0.877737  1.548718  0.403034 -0.407193  0.095921  0.592941   \n",
       "\n",
       "         V8        V9  ...       V21       V22       V23       V24       V25  \\\n",
       "0  0.098698  0.363787  ... -0.018307  0.277838 -0.110474  0.066928  0.128539   \n",
       "1  0.085102 -0.255425  ... -0.225775 -0.638672  0.101288 -0.339846  0.167170   \n",
       "2  0.247676 -1.514654  ...  0.247998  0.771679  0.909412 -0.689281 -0.327642   \n",
       "3  0.377436 -1.387024  ... -0.108300  0.005274 -0.190321 -1.175575  0.647376   \n",
       "4 -0.270533  0.817739  ... -0.009431  0.798278 -0.137458  0.141267 -0.206010   \n",
       "\n",
       "        V26       V27       V28  Amount  Class  \n",
       "0 -0.189115  0.133558 -0.021053  149.62      0  \n",
       "1  0.125895 -0.008983  0.014724    2.69      0  \n",
       "2 -0.139097 -0.055353 -0.059752  378.66      0  \n",
       "3 -0.221929  0.062723  0.061458  123.50      0  \n",
       "4  0.502292  0.219422  0.215153   69.99      0  \n",
       "\n",
       "[5 rows x 31 columns]"
      ]
     },
     "execution_count": 2,
     "metadata": {},
     "output_type": "execute_result"
    }
   ],
   "source": [
    "df = pd.read_csv(\"creditcard.csv\", delimiter = \",\")\n",
    "df.head()"
   ]
  },
  {
   "cell_type": "code",
   "execution_count": 3,
   "metadata": {
    "colab": {
     "base_uri": "https://localhost:8080/"
    },
    "id": "vCxJN1MGjngr",
    "outputId": "f6772486-f435-48aa-8860-e292b8a1cd75"
   },
   "outputs": [
    {
     "data": {
      "text/plain": [
       "0    284315\n",
       "1       492\n",
       "Name: Class, dtype: int64"
      ]
     },
     "execution_count": 3,
     "metadata": {},
     "output_type": "execute_result"
    }
   ],
   "source": [
    "df[\"Class\"].value_counts()"
   ]
  },
  {
   "cell_type": "code",
   "execution_count": 4,
   "metadata": {
    "colab": {
     "base_uri": "https://localhost:8080/"
    },
    "id": "_5l_SFRUkavQ",
    "outputId": "55174ecf-6d6c-4c09-c674-f18b525db95a"
   },
   "outputs": [
    {
     "name": "stdout",
     "output_type": "stream",
     "text": [
      "dataset contains 99.827251436938% for non-fradulent class\n"
     ]
    }
   ],
   "source": [
    "print(\"dataset contains {}% for non-fradulent class\".format(df[\"Class\"].value_counts()[0]*100/len(df[\"Class\"])))\n"
   ]
  },
  {
   "cell_type": "code",
   "execution_count": 5,
   "metadata": {
    "colab": {
     "base_uri": "https://localhost:8080/"
    },
    "id": "UYqmotWxjzPO",
    "outputId": "7101c083-ded2-4f02-e584-2368fbfe8584"
   },
   "outputs": [
    {
     "name": "stdout",
     "output_type": "stream",
     "text": [
      "<class 'pandas.core.frame.DataFrame'>\n",
      "RangeIndex: 284807 entries, 0 to 284806\n",
      "Data columns (total 31 columns):\n",
      " #   Column  Non-Null Count   Dtype  \n",
      "---  ------  --------------   -----  \n",
      " 0   Time    284807 non-null  float64\n",
      " 1   V1      284807 non-null  float64\n",
      " 2   V2      284807 non-null  float64\n",
      " 3   V3      284807 non-null  float64\n",
      " 4   V4      284807 non-null  float64\n",
      " 5   V5      284807 non-null  float64\n",
      " 6   V6      284807 non-null  float64\n",
      " 7   V7      284807 non-null  float64\n",
      " 8   V8      284807 non-null  float64\n",
      " 9   V9      284807 non-null  float64\n",
      " 10  V10     284807 non-null  float64\n",
      " 11  V11     284807 non-null  float64\n",
      " 12  V12     284807 non-null  float64\n",
      " 13  V13     284807 non-null  float64\n",
      " 14  V14     284807 non-null  float64\n",
      " 15  V15     284807 non-null  float64\n",
      " 16  V16     284807 non-null  float64\n",
      " 17  V17     284807 non-null  float64\n",
      " 18  V18     284807 non-null  float64\n",
      " 19  V19     284807 non-null  float64\n",
      " 20  V20     284807 non-null  float64\n",
      " 21  V21     284807 non-null  float64\n",
      " 22  V22     284807 non-null  float64\n",
      " 23  V23     284807 non-null  float64\n",
      " 24  V24     284807 non-null  float64\n",
      " 25  V25     284807 non-null  float64\n",
      " 26  V26     284807 non-null  float64\n",
      " 27  V27     284807 non-null  float64\n",
      " 28  V28     284807 non-null  float64\n",
      " 29  Amount  284807 non-null  float64\n",
      " 30  Class   284807 non-null  int64  \n",
      "dtypes: float64(30), int64(1)\n",
      "memory usage: 67.4 MB\n"
     ]
    }
   ],
   "source": [
    "df.info()"
   ]
  },
  {
   "cell_type": "code",
   "execution_count": 6,
   "metadata": {
    "colab": {
     "base_uri": "https://localhost:8080/",
     "height": 320
    },
    "id": "jORIhaqUkILF",
    "outputId": "b311ac3f-14ad-443e-d065-90cb61752cfe"
   },
   "outputs": [
    {
     "data": {
      "text/html": [
       "<div>\n",
       "<style scoped>\n",
       "    .dataframe tbody tr th:only-of-type {\n",
       "        vertical-align: middle;\n",
       "    }\n",
       "\n",
       "    .dataframe tbody tr th {\n",
       "        vertical-align: top;\n",
       "    }\n",
       "\n",
       "    .dataframe thead th {\n",
       "        text-align: right;\n",
       "    }\n",
       "</style>\n",
       "<table border=\"1\" class=\"dataframe\">\n",
       "  <thead>\n",
       "    <tr style=\"text-align: right;\">\n",
       "      <th></th>\n",
       "      <th>Time</th>\n",
       "      <th>V1</th>\n",
       "      <th>V2</th>\n",
       "      <th>V3</th>\n",
       "      <th>V4</th>\n",
       "      <th>V5</th>\n",
       "      <th>V6</th>\n",
       "      <th>V7</th>\n",
       "      <th>V8</th>\n",
       "      <th>V9</th>\n",
       "      <th>...</th>\n",
       "      <th>V21</th>\n",
       "      <th>V22</th>\n",
       "      <th>V23</th>\n",
       "      <th>V24</th>\n",
       "      <th>V25</th>\n",
       "      <th>V26</th>\n",
       "      <th>V27</th>\n",
       "      <th>V28</th>\n",
       "      <th>Amount</th>\n",
       "      <th>Class</th>\n",
       "    </tr>\n",
       "  </thead>\n",
       "  <tbody>\n",
       "    <tr>\n",
       "      <th>count</th>\n",
       "      <td>284807.000000</td>\n",
       "      <td>2.848070e+05</td>\n",
       "      <td>2.848070e+05</td>\n",
       "      <td>2.848070e+05</td>\n",
       "      <td>2.848070e+05</td>\n",
       "      <td>2.848070e+05</td>\n",
       "      <td>2.848070e+05</td>\n",
       "      <td>2.848070e+05</td>\n",
       "      <td>2.848070e+05</td>\n",
       "      <td>2.848070e+05</td>\n",
       "      <td>...</td>\n",
       "      <td>2.848070e+05</td>\n",
       "      <td>2.848070e+05</td>\n",
       "      <td>2.848070e+05</td>\n",
       "      <td>2.848070e+05</td>\n",
       "      <td>2.848070e+05</td>\n",
       "      <td>2.848070e+05</td>\n",
       "      <td>2.848070e+05</td>\n",
       "      <td>2.848070e+05</td>\n",
       "      <td>284807.000000</td>\n",
       "      <td>284807.000000</td>\n",
       "    </tr>\n",
       "    <tr>\n",
       "      <th>mean</th>\n",
       "      <td>94813.859575</td>\n",
       "      <td>3.919560e-15</td>\n",
       "      <td>5.688174e-16</td>\n",
       "      <td>-8.769071e-15</td>\n",
       "      <td>2.782312e-15</td>\n",
       "      <td>-1.552563e-15</td>\n",
       "      <td>2.010663e-15</td>\n",
       "      <td>-1.694249e-15</td>\n",
       "      <td>-1.927028e-16</td>\n",
       "      <td>-3.137024e-15</td>\n",
       "      <td>...</td>\n",
       "      <td>1.537294e-16</td>\n",
       "      <td>7.959909e-16</td>\n",
       "      <td>5.367590e-16</td>\n",
       "      <td>4.458112e-15</td>\n",
       "      <td>1.453003e-15</td>\n",
       "      <td>1.699104e-15</td>\n",
       "      <td>-3.660161e-16</td>\n",
       "      <td>-1.206049e-16</td>\n",
       "      <td>88.349619</td>\n",
       "      <td>0.001727</td>\n",
       "    </tr>\n",
       "    <tr>\n",
       "      <th>std</th>\n",
       "      <td>47488.145955</td>\n",
       "      <td>1.958696e+00</td>\n",
       "      <td>1.651309e+00</td>\n",
       "      <td>1.516255e+00</td>\n",
       "      <td>1.415869e+00</td>\n",
       "      <td>1.380247e+00</td>\n",
       "      <td>1.332271e+00</td>\n",
       "      <td>1.237094e+00</td>\n",
       "      <td>1.194353e+00</td>\n",
       "      <td>1.098632e+00</td>\n",
       "      <td>...</td>\n",
       "      <td>7.345240e-01</td>\n",
       "      <td>7.257016e-01</td>\n",
       "      <td>6.244603e-01</td>\n",
       "      <td>6.056471e-01</td>\n",
       "      <td>5.212781e-01</td>\n",
       "      <td>4.822270e-01</td>\n",
       "      <td>4.036325e-01</td>\n",
       "      <td>3.300833e-01</td>\n",
       "      <td>250.120109</td>\n",
       "      <td>0.041527</td>\n",
       "    </tr>\n",
       "    <tr>\n",
       "      <th>min</th>\n",
       "      <td>0.000000</td>\n",
       "      <td>-5.640751e+01</td>\n",
       "      <td>-7.271573e+01</td>\n",
       "      <td>-4.832559e+01</td>\n",
       "      <td>-5.683171e+00</td>\n",
       "      <td>-1.137433e+02</td>\n",
       "      <td>-2.616051e+01</td>\n",
       "      <td>-4.355724e+01</td>\n",
       "      <td>-7.321672e+01</td>\n",
       "      <td>-1.343407e+01</td>\n",
       "      <td>...</td>\n",
       "      <td>-3.483038e+01</td>\n",
       "      <td>-1.093314e+01</td>\n",
       "      <td>-4.480774e+01</td>\n",
       "      <td>-2.836627e+00</td>\n",
       "      <td>-1.029540e+01</td>\n",
       "      <td>-2.604551e+00</td>\n",
       "      <td>-2.256568e+01</td>\n",
       "      <td>-1.543008e+01</td>\n",
       "      <td>0.000000</td>\n",
       "      <td>0.000000</td>\n",
       "    </tr>\n",
       "    <tr>\n",
       "      <th>25%</th>\n",
       "      <td>54201.500000</td>\n",
       "      <td>-9.203734e-01</td>\n",
       "      <td>-5.985499e-01</td>\n",
       "      <td>-8.903648e-01</td>\n",
       "      <td>-8.486401e-01</td>\n",
       "      <td>-6.915971e-01</td>\n",
       "      <td>-7.682956e-01</td>\n",
       "      <td>-5.540759e-01</td>\n",
       "      <td>-2.086297e-01</td>\n",
       "      <td>-6.430976e-01</td>\n",
       "      <td>...</td>\n",
       "      <td>-2.283949e-01</td>\n",
       "      <td>-5.423504e-01</td>\n",
       "      <td>-1.618463e-01</td>\n",
       "      <td>-3.545861e-01</td>\n",
       "      <td>-3.171451e-01</td>\n",
       "      <td>-3.269839e-01</td>\n",
       "      <td>-7.083953e-02</td>\n",
       "      <td>-5.295979e-02</td>\n",
       "      <td>5.600000</td>\n",
       "      <td>0.000000</td>\n",
       "    </tr>\n",
       "    <tr>\n",
       "      <th>50%</th>\n",
       "      <td>84692.000000</td>\n",
       "      <td>1.810880e-02</td>\n",
       "      <td>6.548556e-02</td>\n",
       "      <td>1.798463e-01</td>\n",
       "      <td>-1.984653e-02</td>\n",
       "      <td>-5.433583e-02</td>\n",
       "      <td>-2.741871e-01</td>\n",
       "      <td>4.010308e-02</td>\n",
       "      <td>2.235804e-02</td>\n",
       "      <td>-5.142873e-02</td>\n",
       "      <td>...</td>\n",
       "      <td>-2.945017e-02</td>\n",
       "      <td>6.781943e-03</td>\n",
       "      <td>-1.119293e-02</td>\n",
       "      <td>4.097606e-02</td>\n",
       "      <td>1.659350e-02</td>\n",
       "      <td>-5.213911e-02</td>\n",
       "      <td>1.342146e-03</td>\n",
       "      <td>1.124383e-02</td>\n",
       "      <td>22.000000</td>\n",
       "      <td>0.000000</td>\n",
       "    </tr>\n",
       "    <tr>\n",
       "      <th>75%</th>\n",
       "      <td>139320.500000</td>\n",
       "      <td>1.315642e+00</td>\n",
       "      <td>8.037239e-01</td>\n",
       "      <td>1.027196e+00</td>\n",
       "      <td>7.433413e-01</td>\n",
       "      <td>6.119264e-01</td>\n",
       "      <td>3.985649e-01</td>\n",
       "      <td>5.704361e-01</td>\n",
       "      <td>3.273459e-01</td>\n",
       "      <td>5.971390e-01</td>\n",
       "      <td>...</td>\n",
       "      <td>1.863772e-01</td>\n",
       "      <td>5.285536e-01</td>\n",
       "      <td>1.476421e-01</td>\n",
       "      <td>4.395266e-01</td>\n",
       "      <td>3.507156e-01</td>\n",
       "      <td>2.409522e-01</td>\n",
       "      <td>9.104512e-02</td>\n",
       "      <td>7.827995e-02</td>\n",
       "      <td>77.165000</td>\n",
       "      <td>0.000000</td>\n",
       "    </tr>\n",
       "    <tr>\n",
       "      <th>max</th>\n",
       "      <td>172792.000000</td>\n",
       "      <td>2.454930e+00</td>\n",
       "      <td>2.205773e+01</td>\n",
       "      <td>9.382558e+00</td>\n",
       "      <td>1.687534e+01</td>\n",
       "      <td>3.480167e+01</td>\n",
       "      <td>7.330163e+01</td>\n",
       "      <td>1.205895e+02</td>\n",
       "      <td>2.000721e+01</td>\n",
       "      <td>1.559499e+01</td>\n",
       "      <td>...</td>\n",
       "      <td>2.720284e+01</td>\n",
       "      <td>1.050309e+01</td>\n",
       "      <td>2.252841e+01</td>\n",
       "      <td>4.584549e+00</td>\n",
       "      <td>7.519589e+00</td>\n",
       "      <td>3.517346e+00</td>\n",
       "      <td>3.161220e+01</td>\n",
       "      <td>3.384781e+01</td>\n",
       "      <td>25691.160000</td>\n",
       "      <td>1.000000</td>\n",
       "    </tr>\n",
       "  </tbody>\n",
       "</table>\n",
       "<p>8 rows × 31 columns</p>\n",
       "</div>"
      ],
      "text/plain": [
       "                Time            V1            V2            V3            V4  \\\n",
       "count  284807.000000  2.848070e+05  2.848070e+05  2.848070e+05  2.848070e+05   \n",
       "mean    94813.859575  3.919560e-15  5.688174e-16 -8.769071e-15  2.782312e-15   \n",
       "std     47488.145955  1.958696e+00  1.651309e+00  1.516255e+00  1.415869e+00   \n",
       "min         0.000000 -5.640751e+01 -7.271573e+01 -4.832559e+01 -5.683171e+00   \n",
       "25%     54201.500000 -9.203734e-01 -5.985499e-01 -8.903648e-01 -8.486401e-01   \n",
       "50%     84692.000000  1.810880e-02  6.548556e-02  1.798463e-01 -1.984653e-02   \n",
       "75%    139320.500000  1.315642e+00  8.037239e-01  1.027196e+00  7.433413e-01   \n",
       "max    172792.000000  2.454930e+00  2.205773e+01  9.382558e+00  1.687534e+01   \n",
       "\n",
       "                 V5            V6            V7            V8            V9  \\\n",
       "count  2.848070e+05  2.848070e+05  2.848070e+05  2.848070e+05  2.848070e+05   \n",
       "mean  -1.552563e-15  2.010663e-15 -1.694249e-15 -1.927028e-16 -3.137024e-15   \n",
       "std    1.380247e+00  1.332271e+00  1.237094e+00  1.194353e+00  1.098632e+00   \n",
       "min   -1.137433e+02 -2.616051e+01 -4.355724e+01 -7.321672e+01 -1.343407e+01   \n",
       "25%   -6.915971e-01 -7.682956e-01 -5.540759e-01 -2.086297e-01 -6.430976e-01   \n",
       "50%   -5.433583e-02 -2.741871e-01  4.010308e-02  2.235804e-02 -5.142873e-02   \n",
       "75%    6.119264e-01  3.985649e-01  5.704361e-01  3.273459e-01  5.971390e-01   \n",
       "max    3.480167e+01  7.330163e+01  1.205895e+02  2.000721e+01  1.559499e+01   \n",
       "\n",
       "       ...           V21           V22           V23           V24  \\\n",
       "count  ...  2.848070e+05  2.848070e+05  2.848070e+05  2.848070e+05   \n",
       "mean   ...  1.537294e-16  7.959909e-16  5.367590e-16  4.458112e-15   \n",
       "std    ...  7.345240e-01  7.257016e-01  6.244603e-01  6.056471e-01   \n",
       "min    ... -3.483038e+01 -1.093314e+01 -4.480774e+01 -2.836627e+00   \n",
       "25%    ... -2.283949e-01 -5.423504e-01 -1.618463e-01 -3.545861e-01   \n",
       "50%    ... -2.945017e-02  6.781943e-03 -1.119293e-02  4.097606e-02   \n",
       "75%    ...  1.863772e-01  5.285536e-01  1.476421e-01  4.395266e-01   \n",
       "max    ...  2.720284e+01  1.050309e+01  2.252841e+01  4.584549e+00   \n",
       "\n",
       "                V25           V26           V27           V28         Amount  \\\n",
       "count  2.848070e+05  2.848070e+05  2.848070e+05  2.848070e+05  284807.000000   \n",
       "mean   1.453003e-15  1.699104e-15 -3.660161e-16 -1.206049e-16      88.349619   \n",
       "std    5.212781e-01  4.822270e-01  4.036325e-01  3.300833e-01     250.120109   \n",
       "min   -1.029540e+01 -2.604551e+00 -2.256568e+01 -1.543008e+01       0.000000   \n",
       "25%   -3.171451e-01 -3.269839e-01 -7.083953e-02 -5.295979e-02       5.600000   \n",
       "50%    1.659350e-02 -5.213911e-02  1.342146e-03  1.124383e-02      22.000000   \n",
       "75%    3.507156e-01  2.409522e-01  9.104512e-02  7.827995e-02      77.165000   \n",
       "max    7.519589e+00  3.517346e+00  3.161220e+01  3.384781e+01   25691.160000   \n",
       "\n",
       "               Class  \n",
       "count  284807.000000  \n",
       "mean        0.001727  \n",
       "std         0.041527  \n",
       "min         0.000000  \n",
       "25%         0.000000  \n",
       "50%         0.000000  \n",
       "75%         0.000000  \n",
       "max         1.000000  \n",
       "\n",
       "[8 rows x 31 columns]"
      ]
     },
     "execution_count": 6,
     "metadata": {},
     "output_type": "execute_result"
    }
   ],
   "source": [
    "df.describe()"
   ]
  },
  {
   "cell_type": "code",
   "execution_count": 7,
   "metadata": {
    "colab": {
     "base_uri": "https://localhost:8080/",
     "height": 226
    },
    "id": "DNR0pB6dkLDv",
    "outputId": "bc909e96-4bc6-401d-a981-0251f287f508"
   },
   "outputs": [
    {
     "data": {
      "text/html": [
       "<div>\n",
       "<style scoped>\n",
       "    .dataframe tbody tr th:only-of-type {\n",
       "        vertical-align: middle;\n",
       "    }\n",
       "\n",
       "    .dataframe tbody tr th {\n",
       "        vertical-align: top;\n",
       "    }\n",
       "\n",
       "    .dataframe thead th {\n",
       "        text-align: right;\n",
       "    }\n",
       "</style>\n",
       "<table border=\"1\" class=\"dataframe\">\n",
       "  <thead>\n",
       "    <tr style=\"text-align: right;\">\n",
       "      <th></th>\n",
       "      <th>V1</th>\n",
       "      <th>V2</th>\n",
       "      <th>V3</th>\n",
       "      <th>V4</th>\n",
       "      <th>V5</th>\n",
       "      <th>V6</th>\n",
       "      <th>V7</th>\n",
       "      <th>V8</th>\n",
       "      <th>V9</th>\n",
       "      <th>V10</th>\n",
       "      <th>...</th>\n",
       "      <th>V21</th>\n",
       "      <th>V22</th>\n",
       "      <th>V23</th>\n",
       "      <th>V24</th>\n",
       "      <th>V25</th>\n",
       "      <th>V26</th>\n",
       "      <th>V27</th>\n",
       "      <th>V28</th>\n",
       "      <th>Amount</th>\n",
       "      <th>Class</th>\n",
       "    </tr>\n",
       "  </thead>\n",
       "  <tbody>\n",
       "    <tr>\n",
       "      <th>0</th>\n",
       "      <td>-1.359807</td>\n",
       "      <td>-0.072781</td>\n",
       "      <td>2.536347</td>\n",
       "      <td>1.378155</td>\n",
       "      <td>-0.338321</td>\n",
       "      <td>0.462388</td>\n",
       "      <td>0.239599</td>\n",
       "      <td>0.098698</td>\n",
       "      <td>0.363787</td>\n",
       "      <td>0.090794</td>\n",
       "      <td>...</td>\n",
       "      <td>-0.018307</td>\n",
       "      <td>0.277838</td>\n",
       "      <td>-0.110474</td>\n",
       "      <td>0.066928</td>\n",
       "      <td>0.128539</td>\n",
       "      <td>-0.189115</td>\n",
       "      <td>0.133558</td>\n",
       "      <td>-0.021053</td>\n",
       "      <td>149.62</td>\n",
       "      <td>0</td>\n",
       "    </tr>\n",
       "    <tr>\n",
       "      <th>1</th>\n",
       "      <td>1.191857</td>\n",
       "      <td>0.266151</td>\n",
       "      <td>0.166480</td>\n",
       "      <td>0.448154</td>\n",
       "      <td>0.060018</td>\n",
       "      <td>-0.082361</td>\n",
       "      <td>-0.078803</td>\n",
       "      <td>0.085102</td>\n",
       "      <td>-0.255425</td>\n",
       "      <td>-0.166974</td>\n",
       "      <td>...</td>\n",
       "      <td>-0.225775</td>\n",
       "      <td>-0.638672</td>\n",
       "      <td>0.101288</td>\n",
       "      <td>-0.339846</td>\n",
       "      <td>0.167170</td>\n",
       "      <td>0.125895</td>\n",
       "      <td>-0.008983</td>\n",
       "      <td>0.014724</td>\n",
       "      <td>2.69</td>\n",
       "      <td>0</td>\n",
       "    </tr>\n",
       "    <tr>\n",
       "      <th>2</th>\n",
       "      <td>-1.358354</td>\n",
       "      <td>-1.340163</td>\n",
       "      <td>1.773209</td>\n",
       "      <td>0.379780</td>\n",
       "      <td>-0.503198</td>\n",
       "      <td>1.800499</td>\n",
       "      <td>0.791461</td>\n",
       "      <td>0.247676</td>\n",
       "      <td>-1.514654</td>\n",
       "      <td>0.207643</td>\n",
       "      <td>...</td>\n",
       "      <td>0.247998</td>\n",
       "      <td>0.771679</td>\n",
       "      <td>0.909412</td>\n",
       "      <td>-0.689281</td>\n",
       "      <td>-0.327642</td>\n",
       "      <td>-0.139097</td>\n",
       "      <td>-0.055353</td>\n",
       "      <td>-0.059752</td>\n",
       "      <td>378.66</td>\n",
       "      <td>0</td>\n",
       "    </tr>\n",
       "    <tr>\n",
       "      <th>3</th>\n",
       "      <td>-0.966272</td>\n",
       "      <td>-0.185226</td>\n",
       "      <td>1.792993</td>\n",
       "      <td>-0.863291</td>\n",
       "      <td>-0.010309</td>\n",
       "      <td>1.247203</td>\n",
       "      <td>0.237609</td>\n",
       "      <td>0.377436</td>\n",
       "      <td>-1.387024</td>\n",
       "      <td>-0.054952</td>\n",
       "      <td>...</td>\n",
       "      <td>-0.108300</td>\n",
       "      <td>0.005274</td>\n",
       "      <td>-0.190321</td>\n",
       "      <td>-1.175575</td>\n",
       "      <td>0.647376</td>\n",
       "      <td>-0.221929</td>\n",
       "      <td>0.062723</td>\n",
       "      <td>0.061458</td>\n",
       "      <td>123.50</td>\n",
       "      <td>0</td>\n",
       "    </tr>\n",
       "    <tr>\n",
       "      <th>4</th>\n",
       "      <td>-1.158233</td>\n",
       "      <td>0.877737</td>\n",
       "      <td>1.548718</td>\n",
       "      <td>0.403034</td>\n",
       "      <td>-0.407193</td>\n",
       "      <td>0.095921</td>\n",
       "      <td>0.592941</td>\n",
       "      <td>-0.270533</td>\n",
       "      <td>0.817739</td>\n",
       "      <td>0.753074</td>\n",
       "      <td>...</td>\n",
       "      <td>-0.009431</td>\n",
       "      <td>0.798278</td>\n",
       "      <td>-0.137458</td>\n",
       "      <td>0.141267</td>\n",
       "      <td>-0.206010</td>\n",
       "      <td>0.502292</td>\n",
       "      <td>0.219422</td>\n",
       "      <td>0.215153</td>\n",
       "      <td>69.99</td>\n",
       "      <td>0</td>\n",
       "    </tr>\n",
       "  </tbody>\n",
       "</table>\n",
       "<p>5 rows × 30 columns</p>\n",
       "</div>"
      ],
      "text/plain": [
       "         V1        V2        V3        V4        V5        V6        V7  \\\n",
       "0 -1.359807 -0.072781  2.536347  1.378155 -0.338321  0.462388  0.239599   \n",
       "1  1.191857  0.266151  0.166480  0.448154  0.060018 -0.082361 -0.078803   \n",
       "2 -1.358354 -1.340163  1.773209  0.379780 -0.503198  1.800499  0.791461   \n",
       "3 -0.966272 -0.185226  1.792993 -0.863291 -0.010309  1.247203  0.237609   \n",
       "4 -1.158233  0.877737  1.548718  0.403034 -0.407193  0.095921  0.592941   \n",
       "\n",
       "         V8        V9       V10  ...       V21       V22       V23       V24  \\\n",
       "0  0.098698  0.363787  0.090794  ... -0.018307  0.277838 -0.110474  0.066928   \n",
       "1  0.085102 -0.255425 -0.166974  ... -0.225775 -0.638672  0.101288 -0.339846   \n",
       "2  0.247676 -1.514654  0.207643  ...  0.247998  0.771679  0.909412 -0.689281   \n",
       "3  0.377436 -1.387024 -0.054952  ... -0.108300  0.005274 -0.190321 -1.175575   \n",
       "4 -0.270533  0.817739  0.753074  ... -0.009431  0.798278 -0.137458  0.141267   \n",
       "\n",
       "        V25       V26       V27       V28  Amount  Class  \n",
       "0  0.128539 -0.189115  0.133558 -0.021053  149.62      0  \n",
       "1  0.167170  0.125895 -0.008983  0.014724    2.69      0  \n",
       "2 -0.327642 -0.139097 -0.055353 -0.059752  378.66      0  \n",
       "3  0.647376 -0.221929  0.062723  0.061458  123.50      0  \n",
       "4 -0.206010  0.502292  0.219422  0.215153   69.99      0  \n",
       "\n",
       "[5 rows x 30 columns]"
      ]
     },
     "execution_count": 7,
     "metadata": {},
     "output_type": "execute_result"
    }
   ],
   "source": [
    "df.drop([\"Time\"], axis=1, inplace = True)\n",
    "df.head()"
   ]
  },
  {
   "cell_type": "code",
   "execution_count": 8,
   "metadata": {
    "colab": {
     "base_uri": "https://localhost:8080/",
     "height": 643
    },
    "id": "4QvIA5VEkV4u",
    "outputId": "bf0ff359-b978-41a2-bada-933519b42bb0"
   },
   "outputs": [
    {
     "data": {
      "text/plain": [
       "<AxesSubplot:>"
      ]
     },
     "execution_count": 8,
     "metadata": {},
     "output_type": "execute_result"
    },
    {
     "data": {
      "image/png": "[encoded data removed]",
      "text/plain": [
       "<Figure size 720x720 with 2 Axes>"
      ]
     },
     "metadata": {
      "needs_background": "light"
     },
     "output_type": "display_data"
    }
   ],
   "source": [
    "corr = df.corr(\"pearson\")\n",
    "plt.figure(figsize = (10,10))\n",
    "sns.heatmap(corr, linewidth = 1)"
   ]
  },
  {
   "cell_type": "code",
   "execution_count": 9,
   "metadata": {
    "colab": {
     "base_uri": "https://localhost:8080/",
     "height": 643
    },
    "id": "t1YVXEjDkkaQ",
    "outputId": "44d84e17-b53c-4b06-84b5-fb0930b80bca"
   },
   "outputs": [
    {
     "data": {
      "text/plain": [
       "<AxesSubplot:>"
      ]
     },
     "execution_count": 9,
     "metadata": {},
     "output_type": "execute_result"
    },
    {
     "data": {
      "image/png": "[encoded data removed]",
      "text/plain": [
       "<Figure size 720x720 with 2 Axes>"
      ]
     },
     "metadata": {
      "needs_background": "light"
     },
     "output_type": "display_data"
    }
   ],
   "source": [
    "plt.figure(figsize = (10, 10))\n",
    "sns.heatmap(abs(corr) > 0.5, linewidth = 1)"
   ]
  },
  {
   "cell_type": "code",
   "execution_count": 10,
   "metadata": {
    "colab": {
     "base_uri": "https://localhost:8080/"
    },
    "id": "7vNAkBGMknCP",
    "outputId": "350f5dc3-8e5b-4a21-b927-dc968ce18766"
   },
   "outputs": [
    {
     "data": {
      "text/plain": [
       "((284807, 29), (284807,))"
      ]
     },
     "execution_count": 10,
     "metadata": {},
     "output_type": "execute_result"
    }
   ],
   "source": [
    "x, y = df.iloc[:, :-1], df.iloc[:, -1]\n",
    "x.shape, y.shape"
   ]
  },
  {
   "cell_type": "code",
   "execution_count": 11,
   "metadata": {
    "id": "P5G8i8f3ksq0"
   },
   "outputs": [],
   "source": [
    "x = np.array(x, dtype = \"float\")\n",
    "y = np.array(y, dtype = \"float\")"
   ]
  },
  {
   "cell_type": "code",
   "execution_count": 12,
   "metadata": {
    "colab": {
     "base_uri": "https://localhost:8080/"
    },
    "id": "RQMRWyj7kwwo",
    "outputId": "753d354f-60a6-4f21-ac33-c96411fedc6e"
   },
   "outputs": [
    {
     "data": {
      "text/plain": [
       "((213605, 29), (71202, 29), (213605,), (71202,))"
      ]
     },
     "execution_count": 12,
     "metadata": {},
     "output_type": "execute_result"
    }
   ],
   "source": [
    "x_train, x_test, y_train, y_test = train_test_split(x, y, stratify = y, test_size = .25)\n",
    "x_train.shape, x_test.shape, y_train.shape, y_test.shape"
   ]
  },
  {
   "cell_type": "markdown",
   "metadata": {},
   "source": [
    "# Random Forest without SMOTE"
   ]
  },
  {
   "cell_type": "code",
   "execution_count": 13,
   "metadata": {
    "colab": {
     "base_uri": "https://localhost:8080/"
    },
    "id": "SGoRY693-uwi",
    "outputId": "ad82e879-0772-4e5a-cf97-cf0b6c7f243b"
   },
   "outputs": [
    {
     "name": "stdout",
     "output_type": "stream",
     "text": [
      "Fitting 3 folds for each of 12 candidates, totalling 36 fits\n"
     ]
    },
    {
     "name": "stderr",
     "output_type": "stream",
     "text": [
      "[Parallel(n_jobs=-1)]: Using backend LokyBackend with 4 concurrent workers.\n",
      "[Parallel(n_jobs=-1)]: Done   5 tasks      | elapsed:  1.1min\n",
      "[Parallel(n_jobs=-1)]: Done  10 tasks      | elapsed:  3.5min\n",
      "[Parallel(n_jobs=-1)]: Done  17 tasks      | elapsed: 10.3min\n",
      "[Parallel(n_jobs=-1)]: Done  24 tasks      | elapsed: 24.6min\n",
      "[Parallel(n_jobs=-1)]: Done  33 out of  36 | elapsed: 57.9min remaining:  5.3min\n",
      "[Parallel(n_jobs=-1)]: Done  36 out of  36 | elapsed: 90.7min finished\n"
     ]
    },
    {
     "data": {
      "text/plain": [
       "GridSearchCV(cv=3, estimator=RandomForestClassifier(n_jobs=-1), n_jobs=-1,\n",
       "             param_grid={'max_features': [0.1, 0.5, 0.9],\n",
       "                         'n_estimators': [10, 50, 100, 250]},\n",
       "             return_train_score=True, scoring='f1', verbose=10)"
      ]
     },
     "execution_count": 13,
     "metadata": {},
     "output_type": "execute_result"
    }
   ],
   "source": [
    "rf_model = RandomForestClassifier(max_depth = None, n_jobs = -1)\n",
    "params = {\"n_estimators\": [10, 50, 100, 250], \n",
    "          \"max_features\": [.1, .5, .9] \n",
    "          }\n",
    "\n",
    "gridsearch = GridSearchCV(rf_model, params, cv = 3, n_jobs = -1, return_train_score = True, scoring = \"f1\", verbose = 10)\n",
    "gridsearch.fit(x_train, y_train)"
   ]
  },
  {
   "cell_type": "code",
   "execution_count": 14,
   "metadata": {
    "id": "NFub939BAhaT"
   },
   "outputs": [
    {
     "data": {
      "text/html": [
       "<div>\n",
       "<style scoped>\n",
       "    .dataframe tbody tr th:only-of-type {\n",
       "        vertical-align: middle;\n",
       "    }\n",
       "\n",
       "    .dataframe tbody tr th {\n",
       "        vertical-align: top;\n",
       "    }\n",
       "\n",
       "    .dataframe thead th {\n",
       "        text-align: right;\n",
       "    }\n",
       "</style>\n",
       "<table border=\"1\" class=\"dataframe\">\n",
       "  <thead>\n",
       "    <tr style=\"text-align: right;\">\n",
       "      <th></th>\n",
       "      <th>mean_fit_time</th>\n",
       "      <th>std_fit_time</th>\n",
       "      <th>mean_score_time</th>\n",
       "      <th>std_score_time</th>\n",
       "      <th>param_max_features</th>\n",
       "      <th>param_n_estimators</th>\n",
       "      <th>params</th>\n",
       "      <th>split0_test_score</th>\n",
       "      <th>split1_test_score</th>\n",
       "      <th>split2_test_score</th>\n",
       "      <th>mean_test_score</th>\n",
       "      <th>std_test_score</th>\n",
       "      <th>rank_test_score</th>\n",
       "      <th>split0_train_score</th>\n",
       "      <th>split1_train_score</th>\n",
       "      <th>split2_train_score</th>\n",
       "      <th>mean_train_score</th>\n",
       "      <th>std_train_score</th>\n",
       "    </tr>\n",
       "  </thead>\n",
       "  <tbody>\n",
       "    <tr>\n",
       "      <th>0</th>\n",
       "      <td>10.619389</td>\n",
       "      <td>0.146914</td>\n",
       "      <td>0.703834</td>\n",
       "      <td>0.026731</td>\n",
       "      <td>0.1</td>\n",
       "      <td>10</td>\n",
       "      <td>{'max_features': 0.1, 'n_estimators': 10}</td>\n",
       "      <td>0.805687</td>\n",
       "      <td>0.840183</td>\n",
       "      <td>0.792627</td>\n",
       "      <td>0.812832</td>\n",
       "      <td>0.020061</td>\n",
       "      <td>12</td>\n",
       "      <td>0.975104</td>\n",
       "      <td>0.973085</td>\n",
       "      <td>0.970833</td>\n",
       "      <td>0.973007</td>\n",
       "      <td>0.001744</td>\n",
       "    </tr>\n",
       "    <tr>\n",
       "      <th>1</th>\n",
       "      <td>42.551434</td>\n",
       "      <td>1.342567</td>\n",
       "      <td>1.479718</td>\n",
       "      <td>0.269292</td>\n",
       "      <td>0.1</td>\n",
       "      <td>50</td>\n",
       "      <td>{'max_features': 0.1, 'n_estimators': 50}</td>\n",
       "      <td>0.811060</td>\n",
       "      <td>0.836364</td>\n",
       "      <td>0.803653</td>\n",
       "      <td>0.817026</td>\n",
       "      <td>0.014004</td>\n",
       "      <td>11</td>\n",
       "      <td>1.000000</td>\n",
       "      <td>0.995918</td>\n",
       "      <td>0.997963</td>\n",
       "      <td>0.997961</td>\n",
       "      <td>0.001666</td>\n",
       "    </tr>\n",
       "    <tr>\n",
       "      <th>2</th>\n",
       "      <td>82.064870</td>\n",
       "      <td>3.223315</td>\n",
       "      <td>2.361010</td>\n",
       "      <td>0.063457</td>\n",
       "      <td>0.1</td>\n",
       "      <td>100</td>\n",
       "      <td>{'max_features': 0.1, 'n_estimators': 100}</td>\n",
       "      <td>0.814815</td>\n",
       "      <td>0.866071</td>\n",
       "      <td>0.811060</td>\n",
       "      <td>0.830649</td>\n",
       "      <td>0.025095</td>\n",
       "      <td>8</td>\n",
       "      <td>1.000000</td>\n",
       "      <td>0.997963</td>\n",
       "      <td>1.000000</td>\n",
       "      <td>0.999321</td>\n",
       "      <td>0.000960</td>\n",
       "    </tr>\n",
       "    <tr>\n",
       "      <th>3</th>\n",
       "      <td>194.743201</td>\n",
       "      <td>5.845490</td>\n",
       "      <td>4.086600</td>\n",
       "      <td>0.319503</td>\n",
       "      <td>0.1</td>\n",
       "      <td>250</td>\n",
       "      <td>{'max_features': 0.1, 'n_estimators': 250}</td>\n",
       "      <td>0.800000</td>\n",
       "      <td>0.840183</td>\n",
       "      <td>0.812785</td>\n",
       "      <td>0.817656</td>\n",
       "      <td>0.016762</td>\n",
       "      <td>10</td>\n",
       "      <td>1.000000</td>\n",
       "      <td>1.000000</td>\n",
       "      <td>1.000000</td>\n",
       "      <td>1.000000</td>\n",
       "      <td>0.000000</td>\n",
       "    </tr>\n",
       "    <tr>\n",
       "      <th>4</th>\n",
       "      <td>59.855161</td>\n",
       "      <td>5.754877</td>\n",
       "      <td>1.260298</td>\n",
       "      <td>0.011097</td>\n",
       "      <td>0.5</td>\n",
       "      <td>10</td>\n",
       "      <td>{'max_features': 0.5, 'n_estimators': 10}</td>\n",
       "      <td>0.846847</td>\n",
       "      <td>0.833333</td>\n",
       "      <td>0.839286</td>\n",
       "      <td>0.839822</td>\n",
       "      <td>0.005530</td>\n",
       "      <td>3</td>\n",
       "      <td>0.975104</td>\n",
       "      <td>0.962185</td>\n",
       "      <td>0.979424</td>\n",
       "      <td>0.972237</td>\n",
       "      <td>0.007324</td>\n",
       "    </tr>\n",
       "  </tbody>\n",
       "</table>\n",
       "</div>"
      ],
      "text/plain": [
       "   mean_fit_time  std_fit_time  mean_score_time  std_score_time  \\\n",
       "0      10.619389      0.146914         0.703834        0.026731   \n",
       "1      42.551434      1.342567         1.479718        0.269292   \n",
       "2      82.064870      3.223315         2.361010        0.063457   \n",
       "3     194.743201      5.845490         4.086600        0.319503   \n",
       "4      59.855161      5.754877         1.260298        0.011097   \n",
       "\n",
       "  param_max_features param_n_estimators  \\\n",
       "0                0.1                 10   \n",
       "1                0.1                 50   \n",
       "2                0.1                100   \n",
       "3                0.1                250   \n",
       "4                0.5                 10   \n",
       "\n",
       "                                       params  split0_test_score  \\\n",
       "0   {'max_features': 0.1, 'n_estimators': 10}           0.805687   \n",
       "1   {'max_features': 0.1, 'n_estimators': 50}           0.811060   \n",
       "2  {'max_features': 0.1, 'n_estimators': 100}           0.814815   \n",
       "3  {'max_features': 0.1, 'n_estimators': 250}           0.800000   \n",
       "4   {'max_features': 0.5, 'n_estimators': 10}           0.846847   \n",
       "\n",
       "   split1_test_score  split2_test_score  mean_test_score  std_test_score  \\\n",
       "0           0.840183           0.792627         0.812832        0.020061   \n",
       "1           0.836364           0.803653         0.817026        0.014004   \n",
       "2           0.866071           0.811060         0.830649        0.025095   \n",
       "3           0.840183           0.812785         0.817656        0.016762   \n",
       "4           0.833333           0.839286         0.839822        0.005530   \n",
       "\n",
       "   rank_test_score  split0_train_score  split1_train_score  \\\n",
       "0               12            0.975104            0.973085   \n",
       "1               11            1.000000            0.995918   \n",
       "2                8            1.000000            0.997963   \n",
       "3               10            1.000000            1.000000   \n",
       "4                3            0.975104            0.962185   \n",
       "\n",
       "   split2_train_score  mean_train_score  std_train_score  \n",
       "0            0.970833          0.973007         0.001744  \n",
       "1            0.997963          0.997961         0.001666  \n",
       "2            1.000000          0.999321         0.000960  \n",
       "3            1.000000          1.000000         0.000000  \n",
       "4            0.979424          0.972237         0.007324  "
      ]
     },
     "execution_count": 14,
     "metadata": {},
     "output_type": "execute_result"
    }
   ],
   "source": [
    "results = pd.DataFrame.from_dict(gridsearch.cv_results_)\n",
    "results.head()"
   ]
  },
  {
   "cell_type": "code",
   "execution_count": 16,
   "metadata": {
    "id": "HUcXMK9dBNxa"
   },
   "outputs": [
    {
     "data": {
      "image/png": "[encoded data removed]",
      "text/plain": [
       "<Figure size 432x288 with 2 Axes>"
      ]
     },
     "metadata": {
      "needs_background": "light"
     },
     "output_type": "display_data"
    }
   ],
   "source": [
    "hmap = results.pivot(\"param_n_estimators\", \"param_max_features\", \"mean_train_score\")\n",
    "sns.heatmap(hmap, linewidth = 1, annot = True)\n",
    "plt.xlabel(\"max_features\")\n",
    "plt.ylabel(\"n_estimators\")\n",
    "plt.title(\"train f1 score in heatmap\")\n",
    "plt.show()"
   ]
  },
  {
   "cell_type": "code",
   "execution_count": 17,
   "metadata": {
    "id": "2N2Ky-HEBkij"
   },
   "outputs": [
    {
     "data": {
      "image/png": "[encoded data removed]",
      "text/plain": [
       "<Figure size 432x288 with 2 Axes>"
      ]
     },
     "metadata": {
      "needs_background": "light"
     },
     "output_type": "display_data"
    }
   ],
   "source": [
    "hmap = results.pivot(\"param_n_estimators\", \"param_max_features\", \"mean_test_score\")\n",
    "sns.heatmap(hmap, linewidth = 1, annot = True)\n",
    "plt.ylabel(\"max_features\")\n",
    "plt.xlabel(\"n_estimators\")\n",
    "plt.title(\"train f1 score in heatmap\")\n",
    "plt.show()"
   ]
  },
  {
   "cell_type": "code",
   "execution_count": 35,
   "metadata": {
    "id": "k-QoDGNvBm_R"
   },
   "outputs": [],
   "source": [
    "n_estimators = 10\n",
    "max_features = .5"
   ]
  },
  {
   "cell_type": "code",
   "execution_count": 44,
   "metadata": {
    "id": "EmBD23kMBy5E"
   },
   "outputs": [
    {
     "data": {
      "text/plain": [
       "RandomForestClassifier(max_features=0.5, n_estimators=50, n_jobs=3)"
      ]
     },
     "execution_count": 44,
     "metadata": {},
     "output_type": "execute_result"
    }
   ],
   "source": [
    "model = RandomForestClassifier(max_depth = None, n_estimators = n_estimators, max_features = max_features, n_jobs = 3)\n",
    "model.fit(x_train, y_train)"
   ]
  },
  {
   "cell_type": "code",
   "execution_count": 36,
   "metadata": {
    "id": "ZMOtCnc0CLz-"
   },
   "outputs": [
    {
     "data": {
      "image/png": "[encoded data removed]",
      "text/plain": [
       "<Figure size 432x288 with 1 Axes>"
      ]
     },
     "metadata": {
      "needs_background": "light"
     },
     "output_type": "display_data"
    }
   ],
   "source": [
    "y_train_pred = model.predict_proba(x_train)\n",
    "y_test_pred = model.predict_proba(x_test)\n",
    "\n",
    "# code taken from reference ipynb\n",
    "pre_train, rec_train, tr_thresholds = precision_recall_curve(y_train, y_train_pred[:, 1])\n",
    "pre_test, rec_test, te_thresholds = precision_recall_curve(y_test, y_test_pred[:, 1])\n",
    "\n",
    "plt.plot(pre_train, rec_train, \"ro-\", label=\"train AUC =\" + str(auc(rec_train, pre_train)))\n",
    "plt.plot(pre_test, rec_test, \"bo-\", label=\"test AUC =\"+ str(auc(rec_test, pre_test)))\n",
    "plt.legend()\n",
    "plt.xlabel(\"Recall\")\n",
    "plt.ylabel(\"Precision\")\n",
    "plt.title(\"AU Precision-Recall plot for n_estimators = \" + str(n_estimators) +  \" max_features = \" + str(max_features))\n",
    "plt.grid()\n",
    "plt.show()"
   ]
  },
  {
   "cell_type": "code",
   "execution_count": 45,
   "metadata": {},
   "outputs": [
    {
     "name": "stdout",
     "output_type": "stream",
     "text": [
      "train f1 score: 99.86431478968791\n",
      "test f1 score: 88.98678414096916\n"
     ]
    }
   ],
   "source": [
    "print(\"train f1 score:\", f1_score(y_train, model.predict(x_train))*100)\n",
    "print(\"test f1 score:\", f1_score(y_test, model.predict(x_test))*100)"
   ]
  },
  {
   "cell_type": "markdown",
   "metadata": {},
   "source": [
    "# xgboost without SMOTE"
   ]
  },
  {
   "cell_type": "code",
   "execution_count": 15,
   "metadata": {
    "id": "Z4cDWPWpDxHJ"
   },
   "outputs": [
    {
     "name": "stdout",
     "output_type": "stream",
     "text": [
      "Fitting 3 folds for each of 10 candidates, totalling 30 fits\n"
     ]
    },
    {
     "name": "stderr",
     "output_type": "stream",
     "text": [
      "[Parallel(n_jobs=3)]: Using backend LokyBackend with 3 concurrent workers.\n",
      "[Parallel(n_jobs=3)]: Done   2 tasks      | elapsed:   55.7s\n",
      "[Parallel(n_jobs=3)]: Done   7 tasks      | elapsed:  3.2min\n",
      "[Parallel(n_jobs=3)]: Done  12 tasks      | elapsed:  4.4min\n",
      "[Parallel(n_jobs=3)]: Done  19 tasks      | elapsed:  6.5min\n",
      "[Parallel(n_jobs=3)]: Done  30 out of  30 | elapsed: 10.3min finished\n",
      "C:\\Users\\Nagesh\\anaconda3\\lib\\site-packages\\xgboost\\sklearn.py:1146: UserWarning: The use of label encoder in XGBClassifier is deprecated and will be removed in a future release. To remove this warning, do the following: 1) Pass option use_label_encoder=False when constructing XGBClassifier object; and 2) Encode your labels (y) as integers starting with 0, i.e. 0, 1, 2, ..., [num_class - 1].\n",
      "  warnings.warn(label_encoder_deprecation_msg, UserWarning)\n"
     ]
    },
    {
     "name": "stdout",
     "output_type": "stream",
     "text": [
      "[09:48:19] WARNING: C:/Users/Administrator/workspace/xgboost-win64_release_1.4.0/src/learner.cc:1095: Starting in XGBoost 1.3.0, the default evaluation metric used with the objective 'binary:logistic' was changed from 'error' to 'logloss'. Explicitly set eval_metric if you'd like to restore the old behavior.\n"
     ]
    },
    {
     "data": {
      "text/plain": [
       "RandomizedSearchCV(cv=3,\n",
       "                   estimator=XGBClassifier(base_score=None, booster=None,\n",
       "                                           colsample_bylevel=None,\n",
       "                                           colsample_bynode=None,\n",
       "                                           colsample_bytree=None, gamma=None,\n",
       "                                           gpu_id=None, importance_type='gain',\n",
       "                                           interaction_constraints=None,\n",
       "                                           learning_rate=None,\n",
       "                                           max_delta_step=None, max_depth=None,\n",
       "                                           min_child_weight=None, missing=nan,\n",
       "                                           monotone_constraints=None,\n",
       "                                           n_estimators=100,...\n",
       "                                           num_parallel_tree=None,\n",
       "                                           random_state=None, reg_alpha=None,\n",
       "                                           reg_lambda=None,\n",
       "                                           scale_pos_weight=None,\n",
       "                                           subsample=None, tree_method=None,\n",
       "                                           validate_parameters=None,\n",
       "                                           verbosity=None),\n",
       "                   n_jobs=3,\n",
       "                   param_distributions={'colsample_bytree': [0.1, 0.5, 0.9],\n",
       "                                        'max_depth': [4, 8],\n",
       "                                        'n_estimators': [10, 50, 100, 250],\n",
       "                                        'subsample': [0.1, 0.5, 0.9]},\n",
       "                   return_train_score=True, scoring='f1', verbose=10)"
      ]
     },
     "execution_count": 15,
     "metadata": {},
     "output_type": "execute_result"
    }
   ],
   "source": [
    "rf_model = xgb.XGBClassifier()\n",
    "params = {\"n_estimators\": [10, 50, 100, 250],  \n",
    "          \"max_depth\": [4, 8], \n",
    "          \"subsample\": [.1, .5, .9], \n",
    "          \"colsample_bytree\": [.1, .5, .9]\n",
    "          }\n",
    "\n",
    "randomsearch = RandomizedSearchCV(rf_model, params, cv = 3, n_jobs = 3, return_train_score = True, scoring = \"f1\", verbose = 10)\n",
    "randomsearch.fit(x_train, y_train)"
   ]
  },
  {
   "cell_type": "code",
   "execution_count": 19,
   "metadata": {
    "id": "PrcVXhxAEtaY"
   },
   "outputs": [
    {
     "data": {
      "text/html": [
       "<div>\n",
       "<style scoped>\n",
       "    .dataframe tbody tr th:only-of-type {\n",
       "        vertical-align: middle;\n",
       "    }\n",
       "\n",
       "    .dataframe tbody tr th {\n",
       "        vertical-align: top;\n",
       "    }\n",
       "\n",
       "    .dataframe thead th {\n",
       "        text-align: right;\n",
       "    }\n",
       "</style>\n",
       "<table border=\"1\" class=\"dataframe\">\n",
       "  <thead>\n",
       "    <tr style=\"text-align: right;\">\n",
       "      <th></th>\n",
       "      <th>mean_fit_time</th>\n",
       "      <th>std_fit_time</th>\n",
       "      <th>mean_score_time</th>\n",
       "      <th>std_score_time</th>\n",
       "      <th>param_subsample</th>\n",
       "      <th>param_n_estimators</th>\n",
       "      <th>param_max_depth</th>\n",
       "      <th>param_colsample_bytree</th>\n",
       "      <th>params</th>\n",
       "      <th>split0_test_score</th>\n",
       "      <th>split1_test_score</th>\n",
       "      <th>split2_test_score</th>\n",
       "      <th>mean_test_score</th>\n",
       "      <th>std_test_score</th>\n",
       "      <th>rank_test_score</th>\n",
       "      <th>split0_train_score</th>\n",
       "      <th>split1_train_score</th>\n",
       "      <th>split2_train_score</th>\n",
       "      <th>mean_train_score</th>\n",
       "      <th>std_train_score</th>\n",
       "    </tr>\n",
       "  </thead>\n",
       "  <tbody>\n",
       "    <tr>\n",
       "      <th>0</th>\n",
       "      <td>49.487389</td>\n",
       "      <td>0.060685</td>\n",
       "      <td>0.826256</td>\n",
       "      <td>0.081439</td>\n",
       "      <td>0.5</td>\n",
       "      <td>250</td>\n",
       "      <td>4</td>\n",
       "      <td>0.1</td>\n",
       "      <td>{'subsample': 0.5, 'n_estimators': 250, 'max_d...</td>\n",
       "      <td>0.796209</td>\n",
       "      <td>0.857143</td>\n",
       "      <td>0.820961</td>\n",
       "      <td>0.824771</td>\n",
       "      <td>0.025022</td>\n",
       "      <td>7</td>\n",
       "      <td>1.000000</td>\n",
       "      <td>1.000000</td>\n",
       "      <td>1.000000</td>\n",
       "      <td>1.000000</td>\n",
       "      <td>0.000000</td>\n",
       "    </tr>\n",
       "    <tr>\n",
       "      <th>1</th>\n",
       "      <td>4.685326</td>\n",
       "      <td>0.095229</td>\n",
       "      <td>0.272528</td>\n",
       "      <td>0.027462</td>\n",
       "      <td>0.1</td>\n",
       "      <td>10</td>\n",
       "      <td>8</td>\n",
       "      <td>0.5</td>\n",
       "      <td>{'subsample': 0.1, 'n_estimators': 10, 'max_de...</td>\n",
       "      <td>0.741784</td>\n",
       "      <td>0.798165</td>\n",
       "      <td>0.789474</td>\n",
       "      <td>0.776474</td>\n",
       "      <td>0.024785</td>\n",
       "      <td>10</td>\n",
       "      <td>0.782022</td>\n",
       "      <td>0.791855</td>\n",
       "      <td>0.774487</td>\n",
       "      <td>0.782788</td>\n",
       "      <td>0.007111</td>\n",
       "    </tr>\n",
       "    <tr>\n",
       "      <th>2</th>\n",
       "      <td>127.953715</td>\n",
       "      <td>1.623424</td>\n",
       "      <td>0.337239</td>\n",
       "      <td>0.012684</td>\n",
       "      <td>0.9</td>\n",
       "      <td>250</td>\n",
       "      <td>4</td>\n",
       "      <td>0.5</td>\n",
       "      <td>{'subsample': 0.9, 'n_estimators': 250, 'max_d...</td>\n",
       "      <td>0.796209</td>\n",
       "      <td>0.865801</td>\n",
       "      <td>0.847458</td>\n",
       "      <td>0.836489</td>\n",
       "      <td>0.029451</td>\n",
       "      <td>4</td>\n",
       "      <td>1.000000</td>\n",
       "      <td>1.000000</td>\n",
       "      <td>1.000000</td>\n",
       "      <td>1.000000</td>\n",
       "      <td>0.000000</td>\n",
       "    </tr>\n",
       "    <tr>\n",
       "      <th>3</th>\n",
       "      <td>73.037056</td>\n",
       "      <td>0.520644</td>\n",
       "      <td>0.326568</td>\n",
       "      <td>0.056114</td>\n",
       "      <td>0.5</td>\n",
       "      <td>100</td>\n",
       "      <td>8</td>\n",
       "      <td>0.9</td>\n",
       "      <td>{'subsample': 0.5, 'n_estimators': 100, 'max_d...</td>\n",
       "      <td>0.811060</td>\n",
       "      <td>0.842105</td>\n",
       "      <td>0.849785</td>\n",
       "      <td>0.834317</td>\n",
       "      <td>0.016741</td>\n",
       "      <td>5</td>\n",
       "      <td>0.997963</td>\n",
       "      <td>1.000000</td>\n",
       "      <td>1.000000</td>\n",
       "      <td>0.999321</td>\n",
       "      <td>0.000960</td>\n",
       "    </tr>\n",
       "    <tr>\n",
       "      <th>4</th>\n",
       "      <td>88.298889</td>\n",
       "      <td>0.421401</td>\n",
       "      <td>0.331237</td>\n",
       "      <td>0.067855</td>\n",
       "      <td>0.5</td>\n",
       "      <td>250</td>\n",
       "      <td>4</td>\n",
       "      <td>0.5</td>\n",
       "      <td>{'subsample': 0.5, 'n_estimators': 250, 'max_d...</td>\n",
       "      <td>0.809302</td>\n",
       "      <td>0.864629</td>\n",
       "      <td>0.842553</td>\n",
       "      <td>0.838828</td>\n",
       "      <td>0.022740</td>\n",
       "      <td>3</td>\n",
       "      <td>1.000000</td>\n",
       "      <td>1.000000</td>\n",
       "      <td>1.000000</td>\n",
       "      <td>1.000000</td>\n",
       "      <td>0.000000</td>\n",
       "    </tr>\n",
       "    <tr>\n",
       "      <th>5</th>\n",
       "      <td>29.787054</td>\n",
       "      <td>0.198501</td>\n",
       "      <td>0.232498</td>\n",
       "      <td>0.029123</td>\n",
       "      <td>0.1</td>\n",
       "      <td>100</td>\n",
       "      <td>8</td>\n",
       "      <td>0.9</td>\n",
       "      <td>{'subsample': 0.1, 'n_estimators': 100, 'max_d...</td>\n",
       "      <td>0.762332</td>\n",
       "      <td>0.830357</td>\n",
       "      <td>0.826087</td>\n",
       "      <td>0.806259</td>\n",
       "      <td>0.031110</td>\n",
       "      <td>8</td>\n",
       "      <td>0.878465</td>\n",
       "      <td>0.850325</td>\n",
       "      <td>0.854626</td>\n",
       "      <td>0.861139</td>\n",
       "      <td>0.012377</td>\n",
       "    </tr>\n",
       "    <tr>\n",
       "      <th>6</th>\n",
       "      <td>6.982240</td>\n",
       "      <td>0.628832</td>\n",
       "      <td>0.165118</td>\n",
       "      <td>0.046988</td>\n",
       "      <td>0.1</td>\n",
       "      <td>50</td>\n",
       "      <td>4</td>\n",
       "      <td>0.1</td>\n",
       "      <td>{'subsample': 0.1, 'n_estimators': 50, 'max_de...</td>\n",
       "      <td>0.752381</td>\n",
       "      <td>0.783019</td>\n",
       "      <td>0.824561</td>\n",
       "      <td>0.786654</td>\n",
       "      <td>0.029579</td>\n",
       "      <td>9</td>\n",
       "      <td>0.828508</td>\n",
       "      <td>0.800926</td>\n",
       "      <td>0.836689</td>\n",
       "      <td>0.822041</td>\n",
       "      <td>0.015300</td>\n",
       "    </tr>\n",
       "    <tr>\n",
       "      <th>7</th>\n",
       "      <td>170.697486</td>\n",
       "      <td>3.636111</td>\n",
       "      <td>0.372265</td>\n",
       "      <td>0.026185</td>\n",
       "      <td>0.9</td>\n",
       "      <td>250</td>\n",
       "      <td>4</td>\n",
       "      <td>0.9</td>\n",
       "      <td>{'subsample': 0.9, 'n_estimators': 250, 'max_d...</td>\n",
       "      <td>0.824074</td>\n",
       "      <td>0.852174</td>\n",
       "      <td>0.862069</td>\n",
       "      <td>0.846106</td>\n",
       "      <td>0.016094</td>\n",
       "      <td>1</td>\n",
       "      <td>1.000000</td>\n",
       "      <td>1.000000</td>\n",
       "      <td>1.000000</td>\n",
       "      <td>1.000000</td>\n",
       "      <td>0.000000</td>\n",
       "    </tr>\n",
       "    <tr>\n",
       "      <th>8</th>\n",
       "      <td>44.458384</td>\n",
       "      <td>0.280888</td>\n",
       "      <td>0.180796</td>\n",
       "      <td>0.021700</td>\n",
       "      <td>0.9</td>\n",
       "      <td>50</td>\n",
       "      <td>4</td>\n",
       "      <td>0.9</td>\n",
       "      <td>{'subsample': 0.9, 'n_estimators': 50, 'max_de...</td>\n",
       "      <td>0.816514</td>\n",
       "      <td>0.854626</td>\n",
       "      <td>0.846154</td>\n",
       "      <td>0.839098</td>\n",
       "      <td>0.016339</td>\n",
       "      <td>2</td>\n",
       "      <td>0.975000</td>\n",
       "      <td>0.966387</td>\n",
       "      <td>0.968553</td>\n",
       "      <td>0.969980</td>\n",
       "      <td>0.003658</td>\n",
       "    </tr>\n",
       "    <tr>\n",
       "      <th>9</th>\n",
       "      <td>6.393540</td>\n",
       "      <td>0.995519</td>\n",
       "      <td>0.145437</td>\n",
       "      <td>0.009037</td>\n",
       "      <td>0.9</td>\n",
       "      <td>10</td>\n",
       "      <td>4</td>\n",
       "      <td>0.5</td>\n",
       "      <td>{'subsample': 0.9, 'n_estimators': 10, 'max_de...</td>\n",
       "      <td>0.805556</td>\n",
       "      <td>0.834081</td>\n",
       "      <td>0.843882</td>\n",
       "      <td>0.827839</td>\n",
       "      <td>0.016257</td>\n",
       "      <td>6</td>\n",
       "      <td>0.893246</td>\n",
       "      <td>0.876957</td>\n",
       "      <td>0.884956</td>\n",
       "      <td>0.885053</td>\n",
       "      <td>0.006650</td>\n",
       "    </tr>\n",
       "  </tbody>\n",
       "</table>\n",
       "</div>"
      ],
      "text/plain": [
       "   mean_fit_time  std_fit_time  mean_score_time  std_score_time  \\\n",
       "0      49.487389      0.060685         0.826256        0.081439   \n",
       "1       4.685326      0.095229         0.272528        0.027462   \n",
       "2     127.953715      1.623424         0.337239        0.012684   \n",
       "3      73.037056      0.520644         0.326568        0.056114   \n",
       "4      88.298889      0.421401         0.331237        0.067855   \n",
       "5      29.787054      0.198501         0.232498        0.029123   \n",
       "6       6.982240      0.628832         0.165118        0.046988   \n",
       "7     170.697486      3.636111         0.372265        0.026185   \n",
       "8      44.458384      0.280888         0.180796        0.021700   \n",
       "9       6.393540      0.995519         0.145437        0.009037   \n",
       "\n",
       "  param_subsample param_n_estimators param_max_depth param_colsample_bytree  \\\n",
       "0             0.5                250               4                    0.1   \n",
       "1             0.1                 10               8                    0.5   \n",
       "2             0.9                250               4                    0.5   \n",
       "3             0.5                100               8                    0.9   \n",
       "4             0.5                250               4                    0.5   \n",
       "5             0.1                100               8                    0.9   \n",
       "6             0.1                 50               4                    0.1   \n",
       "7             0.9                250               4                    0.9   \n",
       "8             0.9                 50               4                    0.9   \n",
       "9             0.9                 10               4                    0.5   \n",
       "\n",
       "                                              params  split0_test_score  \\\n",
       "0  {'subsample': 0.5, 'n_estimators': 250, 'max_d...           0.796209   \n",
       "1  {'subsample': 0.1, 'n_estimators': 10, 'max_de...           0.741784   \n",
       "2  {'subsample': 0.9, 'n_estimators': 250, 'max_d...           0.796209   \n",
       "3  {'subsample': 0.5, 'n_estimators': 100, 'max_d...           0.811060   \n",
       "4  {'subsample': 0.5, 'n_estimators': 250, 'max_d...           0.809302   \n",
       "5  {'subsample': 0.1, 'n_estimators': 100, 'max_d...           0.762332   \n",
       "6  {'subsample': 0.1, 'n_estimators': 50, 'max_de...           0.752381   \n",
       "7  {'subsample': 0.9, 'n_estimators': 250, 'max_d...           0.824074   \n",
       "8  {'subsample': 0.9, 'n_estimators': 50, 'max_de...           0.816514   \n",
       "9  {'subsample': 0.9, 'n_estimators': 10, 'max_de...           0.805556   \n",
       "\n",
       "   split1_test_score  split2_test_score  mean_test_score  std_test_score  \\\n",
       "0           0.857143           0.820961         0.824771        0.025022   \n",
       "1           0.798165           0.789474         0.776474        0.024785   \n",
       "2           0.865801           0.847458         0.836489        0.029451   \n",
       "3           0.842105           0.849785         0.834317        0.016741   \n",
       "4           0.864629           0.842553         0.838828        0.022740   \n",
       "5           0.830357           0.826087         0.806259        0.031110   \n",
       "6           0.783019           0.824561         0.786654        0.029579   \n",
       "7           0.852174           0.862069         0.846106        0.016094   \n",
       "8           0.854626           0.846154         0.839098        0.016339   \n",
       "9           0.834081           0.843882         0.827839        0.016257   \n",
       "\n",
       "   rank_test_score  split0_train_score  split1_train_score  \\\n",
       "0                7            1.000000            1.000000   \n",
       "1               10            0.782022            0.791855   \n",
       "2                4            1.000000            1.000000   \n",
       "3                5            0.997963            1.000000   \n",
       "4                3            1.000000            1.000000   \n",
       "5                8            0.878465            0.850325   \n",
       "6                9            0.828508            0.800926   \n",
       "7                1            1.000000            1.000000   \n",
       "8                2            0.975000            0.966387   \n",
       "9                6            0.893246            0.876957   \n",
       "\n",
       "   split2_train_score  mean_train_score  std_train_score  \n",
       "0            1.000000          1.000000         0.000000  \n",
       "1            0.774487          0.782788         0.007111  \n",
       "2            1.000000          1.000000         0.000000  \n",
       "3            1.000000          0.999321         0.000960  \n",
       "4            1.000000          1.000000         0.000000  \n",
       "5            0.854626          0.861139         0.012377  \n",
       "6            0.836689          0.822041         0.015300  \n",
       "7            1.000000          1.000000         0.000000  \n",
       "8            0.968553          0.969980         0.003658  \n",
       "9            0.884956          0.885053         0.006650  "
      ]
     },
     "execution_count": 19,
     "metadata": {},
     "output_type": "execute_result"
    }
   ],
   "source": [
    "results = pd.DataFrame.from_dict(randomsearch.cv_results_)\n",
    "results"
   ]
  },
  {
   "cell_type": "code",
   "execution_count": 21,
   "metadata": {
    "id": "Drsh_CiZEyR1"
   },
   "outputs": [
    {
     "data": {
      "image/png": "[encoded data removed]",
      "text/plain": [
       "<Figure size 432x288 with 1 Axes>"
      ]
     },
     "metadata": {
      "needs_background": "light"
     },
     "output_type": "display_data"
    }
   ],
   "source": [
    "plt.figure()\n",
    "plt.plot(range(1, len(results[\"mean_test_score\"])+1), results[\"mean_test_score\"], \"ro-\", label = \"mean_test_score\")\n",
    "plt.plot(range(1, len(results[\"mean_train_score\"])+1), results[\"mean_train_score\"], \"bo-\", label = \"mean_train_score\")\n",
    "plt.legend()\n",
    "plt.xlabel(\"indices\")\n",
    "plt.ylabel(\"f1 score\")\n",
    "plt.grid()\n",
    "plt.show()"
   ]
  },
  {
   "cell_type": "code",
   "execution_count": 40,
   "metadata": {
    "id": "voMomz20FHsF"
   },
   "outputs": [],
   "source": [
    "n_estimators = 50\n",
    "max_depth = 4\n",
    "subsample = .9\n",
    "colsample_bytree = .9"
   ]
  },
  {
   "cell_type": "code",
   "execution_count": 41,
   "metadata": {
    "id": "dwP8TDwqFPcd"
   },
   "outputs": [
    {
     "name": "stderr",
     "output_type": "stream",
     "text": [
      "C:\\Users\\Nagesh\\anaconda3\\lib\\site-packages\\xgboost\\sklearn.py:1146: UserWarning: The use of label encoder in XGBClassifier is deprecated and will be removed in a future release. To remove this warning, do the following: 1) Pass option use_label_encoder=False when constructing XGBClassifier object; and 2) Encode your labels (y) as integers starting with 0, i.e. 0, 1, 2, ..., [num_class - 1].\n",
      "  warnings.warn(label_encoder_deprecation_msg, UserWarning)\n"
     ]
    },
    {
     "name": "stdout",
     "output_type": "stream",
     "text": [
      "[14:45:25] WARNING: C:/Users/Administrator/workspace/xgboost-win64_release_1.4.0/src/learner.cc:1095: Starting in XGBoost 1.3.0, the default evaluation metric used with the objective 'binary:logistic' was changed from 'error' to 'logloss'. Explicitly set eval_metric if you'd like to restore the old behavior.\n"
     ]
    },
    {
     "data": {
      "text/plain": [
       "XGBClassifier(base_score=0.5, booster='gbtree', colsample_bylevel=1,\n",
       "              colsample_bynode=1, colsample_bytree=0.9, gamma=0, gpu_id=-1,\n",
       "              importance_type='gain', interaction_constraints='',\n",
       "              learning_rate=0.300000012, max_delta_step=0, max_depth=4,\n",
       "              min_child_weight=1, missing=nan, monotone_constraints='()',\n",
       "              n_estimators=50, n_jobs=3, num_parallel_tree=1, random_state=0,\n",
       "              reg_alpha=0, reg_lambda=1, scale_pos_weight=1, subsample=0.9,\n",
       "              tree_method='exact', validate_parameters=1, verbosity=None)"
      ]
     },
     "execution_count": 41,
     "metadata": {},
     "output_type": "execute_result"
    }
   ],
   "source": [
    "model = xgb.XGBClassifier(max_depth = max_depth, n_estimators = n_estimators, subsample = subsample, n_jobs = 3, colsample_bytree = colsample_bytree)\n",
    "model.fit(x_train, y_train)"
   ]
  },
  {
   "cell_type": "code",
   "execution_count": 36,
   "metadata": {
    "id": "HnWniBggFkro"
   },
   "outputs": [
    {
     "data": {
      "image/png": "[encoded data removed]",
      "text/plain": [
       "<Figure size 432x288 with 1 Axes>"
      ]
     },
     "metadata": {
      "needs_background": "light"
     },
     "output_type": "display_data"
    }
   ],
   "source": [
    "y_train_pred = model.predict_proba(x_train)\n",
    "y_test_pred = model.predict_proba(x_test)\n",
    "\n",
    "# code taken from reference ipynb\n",
    "pre_train, rec_train, tr_thresholds = precision_recall_curve(y_train, y_train_pred[:, 1])\n",
    "pre_test, rec_test, te_thresholds = precision_recall_curve(y_test, y_test_pred[:, 1])\n",
    "\n",
    "plt.plot(pre_train, rec_train, \"ro-\", label=\"train AUC =\" + str(auc(rec_train, pre_train)))\n",
    "plt.plot(pre_test, rec_test, \"bo-\", label=\"test AUC =\"+ str(auc(rec_test, pre_test)))\n",
    "plt.legend()\n",
    "plt.xlabel(\"Recall\")\n",
    "plt.ylabel(\"Precision\")\n",
    "plt.title(\"AU Precision-Recall plot for n_estimators = \" + str(n_estimators) +  \" max_features = \" + str(max_depth) + \" subsample = \" + str(subsample) + \" colsample_bytree\" + str(colsample_bytree))\n",
    "plt.grid()\n",
    "plt.show()"
   ]
  },
  {
   "cell_type": "code",
   "execution_count": 43,
   "metadata": {},
   "outputs": [
    {
     "name": "stdout",
     "output_type": "stream",
     "text": [
      "train f1 score: 95.0354609929078\n",
      "test f1 score: 86.87782805429865\n"
     ]
    }
   ],
   "source": [
    "print(\"train f1 score:\", f1_score(y_train, model.predict(x_train))*100)\n",
    "print(\"test f1 score:\", f1_score(y_test, model.predict(x_test))*100)"
   ]
  },
  {
   "cell_type": "code",
   "execution_count": 14,
   "metadata": {},
   "outputs": [
    {
     "data": {
      "text/plain": [
       "(426472, 29)"
      ]
     },
     "execution_count": 14,
     "metadata": {},
     "output_type": "execute_result"
    }
   ],
   "source": [
    "smote = SMOTE()\n",
    "x_smote, y_smote = smote.fit_resample(x_train, y_train)\n",
    "x_smote.shape"
   ]
  },
  {
   "cell_type": "markdown",
   "metadata": {},
   "source": [
    "# Random Forest with SMOTE"
   ]
  },
  {
   "cell_type": "code",
   "execution_count": 15,
   "metadata": {},
   "outputs": [
    {
     "name": "stdout",
     "output_type": "stream",
     "text": [
      "Fitting 3 folds for each of 12 candidates, totalling 36 fits\n"
     ]
    },
    {
     "name": "stderr",
     "output_type": "stream",
     "text": [
      "[Parallel(n_jobs=3)]: Using backend LokyBackend with 3 concurrent workers.\n",
      "[Parallel(n_jobs=3)]: Done   2 tasks      | elapsed:   19.9s\n",
      "[Parallel(n_jobs=3)]: Done   7 tasks      | elapsed:  4.1min\n",
      "[Parallel(n_jobs=3)]: Done  12 tasks      | elapsed:  9.7min\n",
      "[Parallel(n_jobs=3)]: Done  19 tasks      | elapsed: 31.0min\n",
      "[Parallel(n_jobs=3)]: Done  26 tasks      | elapsed: 67.8min\n",
      "[Parallel(n_jobs=3)]: Done  36 out of  36 | elapsed: 171.5min finished\n"
     ]
    },
    {
     "data": {
      "text/plain": [
       "GridSearchCV(cv=3, estimator=RandomForestClassifier(n_jobs=-1), n_jobs=3,\n",
       "             param_grid={'max_features': [0.1, 0.5, 0.9],\n",
       "                         'n_estimators': [10, 50, 100, 250]},\n",
       "             return_train_score=True, scoring='f1', verbose=10)"
      ]
     },
     "execution_count": 15,
     "metadata": {},
     "output_type": "execute_result"
    }
   ],
   "source": [
    "rf_model = RandomForestClassifier(max_depth = None, n_jobs = -1)\n",
    "params = {\"n_estimators\": [10, 50, 100, 250], \n",
    "          \"max_features\": [.1, .5, .9] \n",
    "          }\n",
    "\n",
    "gridsearch = GridSearchCV(rf_model, params, cv = 3, n_jobs = 3, return_train_score = True, scoring = \"f1\", verbose = 10)\n",
    "gridsearch.fit(x_smote, y_smote)"
   ]
  },
  {
   "cell_type": "code",
   "execution_count": 16,
   "metadata": {},
   "outputs": [
    {
     "data": {
      "text/html": [
       "<div>\n",
       "<style scoped>\n",
       "    .dataframe tbody tr th:only-of-type {\n",
       "        vertical-align: middle;\n",
       "    }\n",
       "\n",
       "    .dataframe tbody tr th {\n",
       "        vertical-align: top;\n",
       "    }\n",
       "\n",
       "    .dataframe thead th {\n",
       "        text-align: right;\n",
       "    }\n",
       "</style>\n",
       "<table border=\"1\" class=\"dataframe\">\n",
       "  <thead>\n",
       "    <tr style=\"text-align: right;\">\n",
       "      <th></th>\n",
       "      <th>mean_fit_time</th>\n",
       "      <th>std_fit_time</th>\n",
       "      <th>mean_score_time</th>\n",
       "      <th>std_score_time</th>\n",
       "      <th>param_max_features</th>\n",
       "      <th>param_n_estimators</th>\n",
       "      <th>params</th>\n",
       "      <th>split0_test_score</th>\n",
       "      <th>split1_test_score</th>\n",
       "      <th>split2_test_score</th>\n",
       "      <th>mean_test_score</th>\n",
       "      <th>std_test_score</th>\n",
       "      <th>rank_test_score</th>\n",
       "      <th>split0_train_score</th>\n",
       "      <th>split1_train_score</th>\n",
       "      <th>split2_train_score</th>\n",
       "      <th>mean_train_score</th>\n",
       "      <th>std_train_score</th>\n",
       "    </tr>\n",
       "  </thead>\n",
       "  <tbody>\n",
       "    <tr>\n",
       "      <th>0</th>\n",
       "      <td>15.863720</td>\n",
       "      <td>0.371933</td>\n",
       "      <td>0.458993</td>\n",
       "      <td>0.066421</td>\n",
       "      <td>0.1</td>\n",
       "      <td>10</td>\n",
       "      <td>{'max_features': 0.1, 'n_estimators': 10}</td>\n",
       "      <td>0.999838</td>\n",
       "      <td>0.999803</td>\n",
       "      <td>0.999866</td>\n",
       "      <td>0.999836</td>\n",
       "      <td>0.000026</td>\n",
       "      <td>4</td>\n",
       "      <td>0.999996</td>\n",
       "      <td>1.000000</td>\n",
       "      <td>0.999986</td>\n",
       "      <td>0.999994</td>\n",
       "      <td>0.000006</td>\n",
       "    </tr>\n",
       "    <tr>\n",
       "      <th>1</th>\n",
       "      <td>69.340531</td>\n",
       "      <td>0.520075</td>\n",
       "      <td>1.933708</td>\n",
       "      <td>0.404237</td>\n",
       "      <td>0.1</td>\n",
       "      <td>50</td>\n",
       "      <td>{'max_features': 0.1, 'n_estimators': 50}</td>\n",
       "      <td>0.999824</td>\n",
       "      <td>0.999866</td>\n",
       "      <td>0.999894</td>\n",
       "      <td>0.999862</td>\n",
       "      <td>0.000029</td>\n",
       "      <td>3</td>\n",
       "      <td>1.000000</td>\n",
       "      <td>0.999996</td>\n",
       "      <td>1.000000</td>\n",
       "      <td>0.999999</td>\n",
       "      <td>0.000002</td>\n",
       "    </tr>\n",
       "    <tr>\n",
       "      <th>2</th>\n",
       "      <td>140.633561</td>\n",
       "      <td>0.454776</td>\n",
       "      <td>2.791984</td>\n",
       "      <td>0.321487</td>\n",
       "      <td>0.1</td>\n",
       "      <td>100</td>\n",
       "      <td>{'max_features': 0.1, 'n_estimators': 100}</td>\n",
       "      <td>0.999810</td>\n",
       "      <td>0.999880</td>\n",
       "      <td>0.999894</td>\n",
       "      <td>0.999862</td>\n",
       "      <td>0.000037</td>\n",
       "      <td>2</td>\n",
       "      <td>1.000000</td>\n",
       "      <td>1.000000</td>\n",
       "      <td>1.000000</td>\n",
       "      <td>1.000000</td>\n",
       "      <td>0.000000</td>\n",
       "    </tr>\n",
       "    <tr>\n",
       "      <th>3</th>\n",
       "      <td>312.073681</td>\n",
       "      <td>2.219156</td>\n",
       "      <td>7.810548</td>\n",
       "      <td>0.410720</td>\n",
       "      <td>0.1</td>\n",
       "      <td>250</td>\n",
       "      <td>{'max_features': 0.1, 'n_estimators': 250}</td>\n",
       "      <td>0.999817</td>\n",
       "      <td>0.999873</td>\n",
       "      <td>0.999902</td>\n",
       "      <td>0.999864</td>\n",
       "      <td>0.000035</td>\n",
       "      <td>1</td>\n",
       "      <td>1.000000</td>\n",
       "      <td>1.000000</td>\n",
       "      <td>1.000000</td>\n",
       "      <td>1.000000</td>\n",
       "      <td>0.000000</td>\n",
       "    </tr>\n",
       "    <tr>\n",
       "      <th>4</th>\n",
       "      <td>86.025691</td>\n",
       "      <td>1.115723</td>\n",
       "      <td>0.522372</td>\n",
       "      <td>0.169793</td>\n",
       "      <td>0.5</td>\n",
       "      <td>10</td>\n",
       "      <td>{'max_features': 0.5, 'n_estimators': 10}</td>\n",
       "      <td>0.999768</td>\n",
       "      <td>0.999789</td>\n",
       "      <td>0.999775</td>\n",
       "      <td>0.999777</td>\n",
       "      <td>0.000009</td>\n",
       "      <td>8</td>\n",
       "      <td>0.999989</td>\n",
       "      <td>0.999996</td>\n",
       "      <td>0.999986</td>\n",
       "      <td>0.999991</td>\n",
       "      <td>0.000004</td>\n",
       "    </tr>\n",
       "  </tbody>\n",
       "</table>\n",
       "</div>"
      ],
      "text/plain": [
       "   mean_fit_time  std_fit_time  mean_score_time  std_score_time  \\\n",
       "0      15.863720      0.371933         0.458993        0.066421   \n",
       "1      69.340531      0.520075         1.933708        0.404237   \n",
       "2     140.633561      0.454776         2.791984        0.321487   \n",
       "3     312.073681      2.219156         7.810548        0.410720   \n",
       "4      86.025691      1.115723         0.522372        0.169793   \n",
       "\n",
       "  param_max_features param_n_estimators  \\\n",
       "0                0.1                 10   \n",
       "1                0.1                 50   \n",
       "2                0.1                100   \n",
       "3                0.1                250   \n",
       "4                0.5                 10   \n",
       "\n",
       "                                       params  split0_test_score  \\\n",
       "0   {'max_features': 0.1, 'n_estimators': 10}           0.999838   \n",
       "1   {'max_features': 0.1, 'n_estimators': 50}           0.999824   \n",
       "2  {'max_features': 0.1, 'n_estimators': 100}           0.999810   \n",
       "3  {'max_features': 0.1, 'n_estimators': 250}           0.999817   \n",
       "4   {'max_features': 0.5, 'n_estimators': 10}           0.999768   \n",
       "\n",
       "   split1_test_score  split2_test_score  mean_test_score  std_test_score  \\\n",
       "0           0.999803           0.999866         0.999836        0.000026   \n",
       "1           0.999866           0.999894         0.999862        0.000029   \n",
       "2           0.999880           0.999894         0.999862        0.000037   \n",
       "3           0.999873           0.999902         0.999864        0.000035   \n",
       "4           0.999789           0.999775         0.999777        0.000009   \n",
       "\n",
       "   rank_test_score  split0_train_score  split1_train_score  \\\n",
       "0                4            0.999996            1.000000   \n",
       "1                3            1.000000            0.999996   \n",
       "2                2            1.000000            1.000000   \n",
       "3                1            1.000000            1.000000   \n",
       "4                8            0.999989            0.999996   \n",
       "\n",
       "   split2_train_score  mean_train_score  std_train_score  \n",
       "0            0.999986          0.999994         0.000006  \n",
       "1            1.000000          0.999999         0.000002  \n",
       "2            1.000000          1.000000         0.000000  \n",
       "3            1.000000          1.000000         0.000000  \n",
       "4            0.999986          0.999991         0.000004  "
      ]
     },
     "execution_count": 16,
     "metadata": {},
     "output_type": "execute_result"
    }
   ],
   "source": [
    "results = pd.DataFrame.from_dict(gridsearch.cv_results_)\n",
    "results.head()"
   ]
  },
  {
   "cell_type": "code",
   "execution_count": 27,
   "metadata": {},
   "outputs": [
    {
     "data": {
      "image/png": "[encoded data removed]",
      "text/plain": [
       "<Figure size 432x288 with 2 Axes>"
      ]
     },
     "metadata": {
      "needs_background": "light"
     },
     "output_type": "display_data"
    }
   ],
   "source": [
    "hmap = results.pivot(\"param_n_estimators\", \"param_max_features\", \"mean_train_score\")\n",
    "sns.heatmap(hmap, linewidth = 1, annot = True)\n",
    "plt.xlabel(\"max_features\")\n",
    "plt.ylabel(\"n_estimators\")\n",
    "plt.title(\"train f1 score in heatmap\")\n",
    "plt.show()"
   ]
  },
  {
   "cell_type": "code",
   "execution_count": 18,
   "metadata": {},
   "outputs": [
    {
     "data": {
      "image/png": "[encoded data removed]",
      "text/plain": [
       "<Figure size 432x288 with 2 Axes>"
      ]
     },
     "metadata": {
      "needs_background": "light"
     },
     "output_type": "display_data"
    }
   ],
   "source": [
    "hmap = results.pivot(\"param_n_estimators\", \"param_max_features\", \"mean_test_score\")\n",
    "sns.heatmap(hmap, linewidth = 1, annot = True)\n",
    "plt.ylabel(\"max_features\")\n",
    "plt.xlabel(\"n_estimators\")\n",
    "plt.title(\"train f1 score in heatmap\")\n",
    "plt.show()"
   ]
  },
  {
   "cell_type": "code",
   "execution_count": 46,
   "metadata": {},
   "outputs": [],
   "source": [
    "n_estimators = 10\n",
    "max_features = .1"
   ]
  },
  {
   "cell_type": "code",
   "execution_count": 47,
   "metadata": {},
   "outputs": [
    {
     "data": {
      "text/plain": [
       "RandomForestClassifier(max_features=0.1, n_estimators=10, n_jobs=3)"
      ]
     },
     "execution_count": 47,
     "metadata": {},
     "output_type": "execute_result"
    }
   ],
   "source": [
    "model = RandomForestClassifier(max_depth = None, n_estimators = n_estimators, max_features = max_features, n_jobs = 3)\n",
    "model.fit(x_smote, y_smote)"
   ]
  },
  {
   "cell_type": "code",
   "execution_count": 25,
   "metadata": {},
   "outputs": [
    {
     "data": {
      "image/png": "[encoded data removed]",
      "text/plain": [
       "<Figure size 432x288 with 1 Axes>"
      ]
     },
     "metadata": {
      "needs_background": "light"
     },
     "output_type": "display_data"
    }
   ],
   "source": [
    "y_train_pred = model.predict_proba(x_smote)\n",
    "y_test_pred = model.predict_proba(x_test)\n",
    "\n",
    "# code taken from reference ipynb\n",
    "pre_train, rec_train, tr_thresholds = precision_recall_curve(y_smote, y_train_pred[:, 1])\n",
    "pre_test, rec_test, te_thresholds = precision_recall_curve(y_test, y_test_pred[:, 1])\n",
    "\n",
    "plt.plot(pre_train, rec_train, \"ro-\", label=\"train AUC =\" + str(auc(rec_train, pre_train)))\n",
    "plt.plot(pre_test, rec_test, \"bo-\", label=\"test AUC =\"+ str(auc(rec_test, pre_test)))\n",
    "plt.legend()\n",
    "plt.xlabel(\"Recall\")\n",
    "plt.ylabel(\"Precision\")\n",
    "plt.title(\"AU Precision-Recall plot for n_estimators = \" + str(n_estimators) +  \" max_features = \" + str(max_features))\n",
    "plt.grid()\n",
    "plt.show()"
   ]
  },
  {
   "cell_type": "code",
   "execution_count": 22,
   "metadata": {},
   "outputs": [
    {
     "data": {
      "image/png": "[encoded data removed]",
      "text/plain": [
       "<Figure size 432x288 with 1 Axes>"
      ]
     },
     "metadata": {
      "needs_background": "light"
     },
     "output_type": "display_data"
    }
   ],
   "source": [
    "y_train_pred = model.predict_proba(x_smote)\n",
    "y_test_pred = model.predict_proba(x_test)\n",
    "\n",
    "# code taken from reference ipynb\n",
    "pre_train, rec_train, tr_thresholds = precision_recall_curve(y_smote, y_train_pred[:, 1])\n",
    "pre_test, rec_test, te_thresholds = precision_recall_curve(y_test, y_test_pred[:, 1])\n",
    "\n",
    "plt.plot(pre_train, rec_train, \"ro-\", label=\"train AUC =\" + str(auc(rec_train, pre_train)))\n",
    "plt.plot(pre_test, rec_test, \"bo-\", label=\"test AUC =\"+ str(auc(rec_test, pre_test)))\n",
    "plt.legend()\n",
    "plt.xlabel(\"Recall\")\n",
    "plt.ylabel(\"Precision\")\n",
    "plt.title(\"AU Precision-Recall plot for n_estimators = \" + str(n_estimators) +  \" max_features = \" + str(max_features))\n",
    "plt.grid()\n",
    "plt.show()"
   ]
  },
  {
   "cell_type": "code",
   "execution_count": 48,
   "metadata": {},
   "outputs": [
    {
     "name": "stdout",
     "output_type": "stream",
     "text": [
      "train f1 score: 99.86468200270636\n",
      "smote f1 score: 99.99976551856741\n",
      "test f1 score: 88.41201716738198\n"
     ]
    }
   ],
   "source": [
    "print(\"train f1 score:\", f1_score(y_train, model.predict(x_train))*100)\n",
    "print(\"smote f1 score:\", f1_score(y_smote, model.predict(x_smote))*100)\n",
    "print(\"test f1 score:\", f1_score(y_test, model.predict(x_test))*100)"
   ]
  },
  {
   "cell_type": "markdown",
   "metadata": {},
   "source": [
    "# xgboost with SMOTE"
   ]
  },
  {
   "cell_type": "code",
   "execution_count": 28,
   "metadata": {},
   "outputs": [
    {
     "name": "stdout",
     "output_type": "stream",
     "text": [
      "Fitting 3 folds for each of 10 candidates, totalling 30 fits\n"
     ]
    },
    {
     "name": "stderr",
     "output_type": "stream",
     "text": [
      "[Parallel(n_jobs=3)]: Using backend LokyBackend with 3 concurrent workers.\n",
      "[Parallel(n_jobs=3)]: Done   2 tasks      | elapsed:  2.4min\n",
      "[Parallel(n_jobs=3)]: Done   7 tasks      | elapsed:  4.1min\n",
      "[Parallel(n_jobs=3)]: Done  12 tasks      | elapsed:  6.8min\n",
      "[Parallel(n_jobs=3)]: Done  19 tasks      | elapsed:  8.2min\n",
      "[Parallel(n_jobs=3)]: Done  30 out of  30 | elapsed: 10.0min finished\n",
      "C:\\Users\\Nagesh\\anaconda3\\lib\\site-packages\\xgboost\\sklearn.py:1146: UserWarning: The use of label encoder in XGBClassifier is deprecated and will be removed in a future release. To remove this warning, do the following: 1) Pass option use_label_encoder=False when constructing XGBClassifier object; and 2) Encode your labels (y) as integers starting with 0, i.e. 0, 1, 2, ..., [num_class - 1].\n",
      "  warnings.warn(label_encoder_deprecation_msg, UserWarning)\n"
     ]
    },
    {
     "name": "stdout",
     "output_type": "stream",
     "text": [
      "[14:20:29] WARNING: C:/Users/Administrator/workspace/xgboost-win64_release_1.4.0/src/learner.cc:1095: Starting in XGBoost 1.3.0, the default evaluation metric used with the objective 'binary:logistic' was changed from 'error' to 'logloss'. Explicitly set eval_metric if you'd like to restore the old behavior.\n"
     ]
    },
    {
     "data": {
      "text/plain": [
       "RandomizedSearchCV(cv=3,\n",
       "                   estimator=XGBClassifier(base_score=None, booster=None,\n",
       "                                           colsample_bylevel=None,\n",
       "                                           colsample_bynode=None,\n",
       "                                           colsample_bytree=None, gamma=None,\n",
       "                                           gpu_id=None, importance_type='gain',\n",
       "                                           interaction_constraints=None,\n",
       "                                           learning_rate=None,\n",
       "                                           max_delta_step=None, max_depth=None,\n",
       "                                           min_child_weight=None, missing=nan,\n",
       "                                           monotone_constraints=None,\n",
       "                                           n_estimators=100,...\n",
       "                                           num_parallel_tree=None,\n",
       "                                           random_state=None, reg_alpha=None,\n",
       "                                           reg_lambda=None,\n",
       "                                           scale_pos_weight=None,\n",
       "                                           subsample=None, tree_method=None,\n",
       "                                           validate_parameters=None,\n",
       "                                           verbosity=None),\n",
       "                   n_jobs=3,\n",
       "                   param_distributions={'colsample_bytree': [0.1, 0.5, 0.9],\n",
       "                                        'max_depth': [4, 8],\n",
       "                                        'n_estimators': [10, 50, 100, 250],\n",
       "                                        'subsample': [0.1, 0.5, 0.9]},\n",
       "                   return_train_score=True, scoring='f1', verbose=10)"
      ]
     },
     "execution_count": 28,
     "metadata": {},
     "output_type": "execute_result"
    }
   ],
   "source": [
    "rf_model = xgb.XGBClassifier()\n",
    "params = {\"n_estimators\": [10, 50, 100, 250],  \n",
    "          \"max_depth\": [4, 8], \n",
    "          \"subsample\": [.1, .5, .9], \n",
    "          \"colsample_bytree\": [.1, .5, .9]\n",
    "          }\n",
    "\n",
    "randomsearch = RandomizedSearchCV(rf_model, params, cv = 3, n_jobs = 3, return_train_score = True, scoring = \"f1\", verbose = 10)\n",
    "randomsearch.fit(x_smote, y_smote)"
   ]
  },
  {
   "cell_type": "code",
   "execution_count": 29,
   "metadata": {},
   "outputs": [
    {
     "data": {
      "text/html": [
       "<div>\n",
       "<style scoped>\n",
       "    .dataframe tbody tr th:only-of-type {\n",
       "        vertical-align: middle;\n",
       "    }\n",
       "\n",
       "    .dataframe tbody tr th {\n",
       "        vertical-align: top;\n",
       "    }\n",
       "\n",
       "    .dataframe thead th {\n",
       "        text-align: right;\n",
       "    }\n",
       "</style>\n",
       "<table border=\"1\" class=\"dataframe\">\n",
       "  <thead>\n",
       "    <tr style=\"text-align: right;\">\n",
       "      <th></th>\n",
       "      <th>mean_fit_time</th>\n",
       "      <th>std_fit_time</th>\n",
       "      <th>mean_score_time</th>\n",
       "      <th>std_score_time</th>\n",
       "      <th>param_subsample</th>\n",
       "      <th>param_n_estimators</th>\n",
       "      <th>param_max_depth</th>\n",
       "      <th>param_colsample_bytree</th>\n",
       "      <th>params</th>\n",
       "      <th>split0_test_score</th>\n",
       "      <th>split1_test_score</th>\n",
       "      <th>split2_test_score</th>\n",
       "      <th>mean_test_score</th>\n",
       "      <th>std_test_score</th>\n",
       "      <th>rank_test_score</th>\n",
       "      <th>split0_train_score</th>\n",
       "      <th>split1_train_score</th>\n",
       "      <th>split2_train_score</th>\n",
       "      <th>mean_train_score</th>\n",
       "      <th>std_train_score</th>\n",
       "    </tr>\n",
       "  </thead>\n",
       "  <tbody>\n",
       "    <tr>\n",
       "      <th>0</th>\n",
       "      <td>142.210267</td>\n",
       "      <td>0.963473</td>\n",
       "      <td>0.516959</td>\n",
       "      <td>0.066438</td>\n",
       "      <td>0.5</td>\n",
       "      <td>100</td>\n",
       "      <td>4</td>\n",
       "      <td>0.9</td>\n",
       "      <td>{'subsample': 0.5, 'n_estimators': 100, 'max_d...</td>\n",
       "      <td>0.999452</td>\n",
       "      <td>0.999395</td>\n",
       "      <td>0.999550</td>\n",
       "      <td>0.999466</td>\n",
       "      <td>0.000064</td>\n",
       "      <td>3</td>\n",
       "      <td>0.999701</td>\n",
       "      <td>0.999740</td>\n",
       "      <td>0.999729</td>\n",
       "      <td>0.999723</td>\n",
       "      <td>0.000016</td>\n",
       "    </tr>\n",
       "    <tr>\n",
       "      <th>1</th>\n",
       "      <td>14.969329</td>\n",
       "      <td>0.261003</td>\n",
       "      <td>0.331569</td>\n",
       "      <td>0.049081</td>\n",
       "      <td>0.5</td>\n",
       "      <td>50</td>\n",
       "      <td>4</td>\n",
       "      <td>0.1</td>\n",
       "      <td>{'subsample': 0.5, 'n_estimators': 50, 'max_de...</td>\n",
       "      <td>0.980141</td>\n",
       "      <td>0.982994</td>\n",
       "      <td>0.983569</td>\n",
       "      <td>0.982235</td>\n",
       "      <td>0.001499</td>\n",
       "      <td>8</td>\n",
       "      <td>0.980710</td>\n",
       "      <td>0.984104</td>\n",
       "      <td>0.984367</td>\n",
       "      <td>0.983060</td>\n",
       "      <td>0.001665</td>\n",
       "    </tr>\n",
       "    <tr>\n",
       "      <th>2</th>\n",
       "      <td>85.866617</td>\n",
       "      <td>0.539388</td>\n",
       "      <td>0.464664</td>\n",
       "      <td>0.004646</td>\n",
       "      <td>0.5</td>\n",
       "      <td>100</td>\n",
       "      <td>4</td>\n",
       "      <td>0.5</td>\n",
       "      <td>{'subsample': 0.5, 'n_estimators': 100, 'max_d...</td>\n",
       "      <td>0.999276</td>\n",
       "      <td>0.999283</td>\n",
       "      <td>0.999473</td>\n",
       "      <td>0.999344</td>\n",
       "      <td>0.000091</td>\n",
       "      <td>4</td>\n",
       "      <td>0.999666</td>\n",
       "      <td>0.999638</td>\n",
       "      <td>0.999655</td>\n",
       "      <td>0.999653</td>\n",
       "      <td>0.000012</td>\n",
       "    </tr>\n",
       "    <tr>\n",
       "      <th>3</th>\n",
       "      <td>148.123392</td>\n",
       "      <td>3.100797</td>\n",
       "      <td>0.949009</td>\n",
       "      <td>0.140686</td>\n",
       "      <td>0.1</td>\n",
       "      <td>250</td>\n",
       "      <td>8</td>\n",
       "      <td>0.5</td>\n",
       "      <td>{'subsample': 0.1, 'n_estimators': 250, 'max_d...</td>\n",
       "      <td>0.999662</td>\n",
       "      <td>0.999740</td>\n",
       "      <td>0.999712</td>\n",
       "      <td>0.999705</td>\n",
       "      <td>0.000032</td>\n",
       "      <td>2</td>\n",
       "      <td>0.999947</td>\n",
       "      <td>0.999944</td>\n",
       "      <td>0.999951</td>\n",
       "      <td>0.999947</td>\n",
       "      <td>0.000003</td>\n",
       "    </tr>\n",
       "    <tr>\n",
       "      <th>4</th>\n",
       "      <td>68.320388</td>\n",
       "      <td>0.309674</td>\n",
       "      <td>0.439982</td>\n",
       "      <td>0.010379</td>\n",
       "      <td>0.1</td>\n",
       "      <td>100</td>\n",
       "      <td>4</td>\n",
       "      <td>0.9</td>\n",
       "      <td>{'subsample': 0.1, 'n_estimators': 100, 'max_d...</td>\n",
       "      <td>0.999171</td>\n",
       "      <td>0.999262</td>\n",
       "      <td>0.999339</td>\n",
       "      <td>0.999257</td>\n",
       "      <td>0.000069</td>\n",
       "      <td>5</td>\n",
       "      <td>0.999476</td>\n",
       "      <td>0.999497</td>\n",
       "      <td>0.999487</td>\n",
       "      <td>0.999487</td>\n",
       "      <td>0.000009</td>\n",
       "    </tr>\n",
       "    <tr>\n",
       "      <th>5</th>\n",
       "      <td>18.789860</td>\n",
       "      <td>0.463739</td>\n",
       "      <td>0.292208</td>\n",
       "      <td>0.024280</td>\n",
       "      <td>0.5</td>\n",
       "      <td>10</td>\n",
       "      <td>8</td>\n",
       "      <td>0.5</td>\n",
       "      <td>{'subsample': 0.5, 'n_estimators': 10, 'max_de...</td>\n",
       "      <td>0.992531</td>\n",
       "      <td>0.995729</td>\n",
       "      <td>0.995418</td>\n",
       "      <td>0.994559</td>\n",
       "      <td>0.001440</td>\n",
       "      <td>6</td>\n",
       "      <td>0.993211</td>\n",
       "      <td>0.996318</td>\n",
       "      <td>0.996078</td>\n",
       "      <td>0.995202</td>\n",
       "      <td>0.001411</td>\n",
       "    </tr>\n",
       "    <tr>\n",
       "      <th>6</th>\n",
       "      <td>4.488670</td>\n",
       "      <td>0.155025</td>\n",
       "      <td>0.283208</td>\n",
       "      <td>0.017736</td>\n",
       "      <td>0.1</td>\n",
       "      <td>10</td>\n",
       "      <td>4</td>\n",
       "      <td>0.1</td>\n",
       "      <td>{'subsample': 0.1, 'n_estimators': 10, 'max_de...</td>\n",
       "      <td>0.937933</td>\n",
       "      <td>0.939314</td>\n",
       "      <td>0.940624</td>\n",
       "      <td>0.939291</td>\n",
       "      <td>0.001099</td>\n",
       "      <td>10</td>\n",
       "      <td>0.937313</td>\n",
       "      <td>0.939873</td>\n",
       "      <td>0.941756</td>\n",
       "      <td>0.939648</td>\n",
       "      <td>0.001821</td>\n",
       "    </tr>\n",
       "    <tr>\n",
       "      <th>7</th>\n",
       "      <td>11.081141</td>\n",
       "      <td>0.610004</td>\n",
       "      <td>0.293542</td>\n",
       "      <td>0.017224</td>\n",
       "      <td>0.1</td>\n",
       "      <td>10</td>\n",
       "      <td>8</td>\n",
       "      <td>0.5</td>\n",
       "      <td>{'subsample': 0.1, 'n_estimators': 10, 'max_de...</td>\n",
       "      <td>0.991282</td>\n",
       "      <td>0.993647</td>\n",
       "      <td>0.993647</td>\n",
       "      <td>0.992859</td>\n",
       "      <td>0.001115</td>\n",
       "      <td>7</td>\n",
       "      <td>0.991787</td>\n",
       "      <td>0.994510</td>\n",
       "      <td>0.994053</td>\n",
       "      <td>0.993450</td>\n",
       "      <td>0.001190</td>\n",
       "    </tr>\n",
       "    <tr>\n",
       "      <th>8</th>\n",
       "      <td>79.923076</td>\n",
       "      <td>0.354695</td>\n",
       "      <td>0.465331</td>\n",
       "      <td>0.046709</td>\n",
       "      <td>0.5</td>\n",
       "      <td>50</td>\n",
       "      <td>8</td>\n",
       "      <td>0.5</td>\n",
       "      <td>{'subsample': 0.5, 'n_estimators': 50, 'max_de...</td>\n",
       "      <td>0.999691</td>\n",
       "      <td>0.999733</td>\n",
       "      <td>0.999754</td>\n",
       "      <td>0.999726</td>\n",
       "      <td>0.000026</td>\n",
       "      <td>1</td>\n",
       "      <td>0.999947</td>\n",
       "      <td>0.999937</td>\n",
       "      <td>0.999940</td>\n",
       "      <td>0.999941</td>\n",
       "      <td>0.000004</td>\n",
       "    </tr>\n",
       "    <tr>\n",
       "      <th>9</th>\n",
       "      <td>5.617765</td>\n",
       "      <td>1.121993</td>\n",
       "      <td>0.261188</td>\n",
       "      <td>0.013963</td>\n",
       "      <td>0.1</td>\n",
       "      <td>10</td>\n",
       "      <td>4</td>\n",
       "      <td>0.5</td>\n",
       "      <td>{'subsample': 0.1, 'n_estimators': 10, 'max_de...</td>\n",
       "      <td>0.967947</td>\n",
       "      <td>0.965776</td>\n",
       "      <td>0.966521</td>\n",
       "      <td>0.966748</td>\n",
       "      <td>0.000901</td>\n",
       "      <td>9</td>\n",
       "      <td>0.967274</td>\n",
       "      <td>0.967010</td>\n",
       "      <td>0.967046</td>\n",
       "      <td>0.967110</td>\n",
       "      <td>0.000117</td>\n",
       "    </tr>\n",
       "  </tbody>\n",
       "</table>\n",
       "</div>"
      ],
      "text/plain": [
       "   mean_fit_time  std_fit_time  mean_score_time  std_score_time  \\\n",
       "0     142.210267      0.963473         0.516959        0.066438   \n",
       "1      14.969329      0.261003         0.331569        0.049081   \n",
       "2      85.866617      0.539388         0.464664        0.004646   \n",
       "3     148.123392      3.100797         0.949009        0.140686   \n",
       "4      68.320388      0.309674         0.439982        0.010379   \n",
       "5      18.789860      0.463739         0.292208        0.024280   \n",
       "6       4.488670      0.155025         0.283208        0.017736   \n",
       "7      11.081141      0.610004         0.293542        0.017224   \n",
       "8      79.923076      0.354695         0.465331        0.046709   \n",
       "9       5.617765      1.121993         0.261188        0.013963   \n",
       "\n",
       "  param_subsample param_n_estimators param_max_depth param_colsample_bytree  \\\n",
       "0             0.5                100               4                    0.9   \n",
       "1             0.5                 50               4                    0.1   \n",
       "2             0.5                100               4                    0.5   \n",
       "3             0.1                250               8                    0.5   \n",
       "4             0.1                100               4                    0.9   \n",
       "5             0.5                 10               8                    0.5   \n",
       "6             0.1                 10               4                    0.1   \n",
       "7             0.1                 10               8                    0.5   \n",
       "8             0.5                 50               8                    0.5   \n",
       "9             0.1                 10               4                    0.5   \n",
       "\n",
       "                                              params  split0_test_score  \\\n",
       "0  {'subsample': 0.5, 'n_estimators': 100, 'max_d...           0.999452   \n",
       "1  {'subsample': 0.5, 'n_estimators': 50, 'max_de...           0.980141   \n",
       "2  {'subsample': 0.5, 'n_estimators': 100, 'max_d...           0.999276   \n",
       "3  {'subsample': 0.1, 'n_estimators': 250, 'max_d...           0.999662   \n",
       "4  {'subsample': 0.1, 'n_estimators': 100, 'max_d...           0.999171   \n",
       "5  {'subsample': 0.5, 'n_estimators': 10, 'max_de...           0.992531   \n",
       "6  {'subsample': 0.1, 'n_estimators': 10, 'max_de...           0.937933   \n",
       "7  {'subsample': 0.1, 'n_estimators': 10, 'max_de...           0.991282   \n",
       "8  {'subsample': 0.5, 'n_estimators': 50, 'max_de...           0.999691   \n",
       "9  {'subsample': 0.1, 'n_estimators': 10, 'max_de...           0.967947   \n",
       "\n",
       "   split1_test_score  split2_test_score  mean_test_score  std_test_score  \\\n",
       "0           0.999395           0.999550         0.999466        0.000064   \n",
       "1           0.982994           0.983569         0.982235        0.001499   \n",
       "2           0.999283           0.999473         0.999344        0.000091   \n",
       "3           0.999740           0.999712         0.999705        0.000032   \n",
       "4           0.999262           0.999339         0.999257        0.000069   \n",
       "5           0.995729           0.995418         0.994559        0.001440   \n",
       "6           0.939314           0.940624         0.939291        0.001099   \n",
       "7           0.993647           0.993647         0.992859        0.001115   \n",
       "8           0.999733           0.999754         0.999726        0.000026   \n",
       "9           0.965776           0.966521         0.966748        0.000901   \n",
       "\n",
       "   rank_test_score  split0_train_score  split1_train_score  \\\n",
       "0                3            0.999701            0.999740   \n",
       "1                8            0.980710            0.984104   \n",
       "2                4            0.999666            0.999638   \n",
       "3                2            0.999947            0.999944   \n",
       "4                5            0.999476            0.999497   \n",
       "5                6            0.993211            0.996318   \n",
       "6               10            0.937313            0.939873   \n",
       "7                7            0.991787            0.994510   \n",
       "8                1            0.999947            0.999937   \n",
       "9                9            0.967274            0.967010   \n",
       "\n",
       "   split2_train_score  mean_train_score  std_train_score  \n",
       "0            0.999729          0.999723         0.000016  \n",
       "1            0.984367          0.983060         0.001665  \n",
       "2            0.999655          0.999653         0.000012  \n",
       "3            0.999951          0.999947         0.000003  \n",
       "4            0.999487          0.999487         0.000009  \n",
       "5            0.996078          0.995202         0.001411  \n",
       "6            0.941756          0.939648         0.001821  \n",
       "7            0.994053          0.993450         0.001190  \n",
       "8            0.999940          0.999941         0.000004  \n",
       "9            0.967046          0.967110         0.000117  "
      ]
     },
     "execution_count": 29,
     "metadata": {},
     "output_type": "execute_result"
    }
   ],
   "source": [
    "results = pd.DataFrame.from_dict(randomsearch.cv_results_)\n",
    "results"
   ]
  },
  {
   "cell_type": "code",
   "execution_count": 30,
   "metadata": {},
   "outputs": [
    {
     "data": {
      "image/png": "[encoded data removed]",
      "text/plain": [
       "<Figure size 432x288 with 1 Axes>"
      ]
     },
     "metadata": {
      "needs_background": "light"
     },
     "output_type": "display_data"
    }
   ],
   "source": [
    "plt.figure()\n",
    "plt.plot(range(1, len(results[\"mean_test_score\"])+1), results[\"mean_test_score\"], \"ro-\", label = \"mean_test_score\")\n",
    "plt.plot(range(1, len(results[\"mean_train_score\"])+1), results[\"mean_train_score\"], \"bo-\", label = \"mean_train_score\")\n",
    "plt.legend()\n",
    "plt.xlabel(\"indices\")\n",
    "plt.ylabel(\"f1 score\")\n",
    "plt.grid()\n",
    "plt.show()"
   ]
  },
  {
   "cell_type": "code",
   "execution_count": 49,
   "metadata": {},
   "outputs": [],
   "source": [
    "n_estimators = 100\n",
    "max_depth = 4\n",
    "subsample = .5\n",
    "colsample_bytree = .5"
   ]
  },
  {
   "cell_type": "code",
   "execution_count": 50,
   "metadata": {},
   "outputs": [
    {
     "name": "stderr",
     "output_type": "stream",
     "text": [
      "C:\\Users\\Nagesh\\anaconda3\\lib\\site-packages\\xgboost\\sklearn.py:1146: UserWarning: The use of label encoder in XGBClassifier is deprecated and will be removed in a future release. To remove this warning, do the following: 1) Pass option use_label_encoder=False when constructing XGBClassifier object; and 2) Encode your labels (y) as integers starting with 0, i.e. 0, 1, 2, ..., [num_class - 1].\n",
      "  warnings.warn(label_encoder_deprecation_msg, UserWarning)\n"
     ]
    },
    {
     "name": "stdout",
     "output_type": "stream",
     "text": [
      "[14:50:56] WARNING: C:/Users/Administrator/workspace/xgboost-win64_release_1.4.0/src/learner.cc:1095: Starting in XGBoost 1.3.0, the default evaluation metric used with the objective 'binary:logistic' was changed from 'error' to 'logloss'. Explicitly set eval_metric if you'd like to restore the old behavior.\n"
     ]
    },
    {
     "data": {
      "text/plain": [
       "XGBClassifier(base_score=0.5, booster='gbtree', colsample_bylevel=1,\n",
       "              colsample_bynode=1, colsample_bytree=0.5, gamma=0, gpu_id=-1,\n",
       "              importance_type='gain', interaction_constraints='',\n",
       "              learning_rate=0.300000012, max_delta_step=0, max_depth=4,\n",
       "              min_child_weight=1, missing=nan, monotone_constraints='()',\n",
       "              n_estimators=100, n_jobs=3, num_parallel_tree=1, random_state=0,\n",
       "              reg_alpha=0, reg_lambda=1, scale_pos_weight=1, subsample=0.5,\n",
       "              tree_method='exact', validate_parameters=1, verbosity=None)"
      ]
     },
     "execution_count": 50,
     "metadata": {},
     "output_type": "execute_result"
    }
   ],
   "source": [
    "model = xgb.XGBClassifier(max_depth = max_depth, n_estimators = n_estimators, subsample = subsample, n_jobs = 3, colsample_bytree = colsample_bytree)\n",
    "model.fit(x_smote, y_smote)"
   ]
  },
  {
   "cell_type": "code",
   "execution_count": 33,
   "metadata": {},
   "outputs": [
    {
     "data": {
      "image/png": "[encoded data removed]",
      "text/plain": [
       "<Figure size 432x288 with 1 Axes>"
      ]
     },
     "metadata": {
      "needs_background": "light"
     },
     "output_type": "display_data"
    }
   ],
   "source": [
    "y_train_pred = model.predict_proba(x_smote)\n",
    "y_test_pred = model.predict_proba(x_test)\n",
    "\n",
    "# code taken from reference ipynb\n",
    "pre_train, rec_train, tr_thresholds = precision_recall_curve(y_smote, y_train_pred[:, 1])\n",
    "pre_test, rec_test, te_thresholds = precision_recall_curve(y_test, y_test_pred[:, 1])\n",
    "\n",
    "plt.plot(pre_train, rec_train, \"ro-\", label=\"train AUC =\" + str(auc(rec_train, pre_train)))\n",
    "plt.plot(pre_test, rec_test, \"bo-\", label=\"test AUC =\"+ str(auc(rec_test, pre_test)))\n",
    "plt.legend()\n",
    "plt.xlabel(\"Recall\")\n",
    "plt.ylabel(\"Precision\")\n",
    "plt.title(\"AU Precision-Recall plot for n_estimators = \" + str(n_estimators) +  \" max_features = \" + str(max_depth) + \" subsample = \" + str(subsample) + \" colsample_bytree\" + str(colsample_bytree))\n",
    "plt.grid()\n",
    "plt.show()"
   ]
  },
  {
   "cell_type": "code",
   "execution_count": 51,
   "metadata": {},
   "outputs": [
    {
     "name": "stdout",
     "output_type": "stream",
     "text": [
      "train f1 score: 83.44671201814057\n",
      "smote f1 score: 99.96483924502827\n",
      "test f1 score: 68.370607028754\n"
     ]
    }
   ],
   "source": [
    "print(\"train f1 score:\", f1_score(y_train, model.predict(x_train))*100)\n",
    "print(\"smote f1 score:\", f1_score(y_smote, model.predict(x_smote))*100)\n",
    "print(\"test f1 score:\", f1_score(y_test, model.predict(x_test))*100)"
   ]
  },
  {
   "cell_type": "code",
   "execution_count": null,
   "metadata": {},
   "outputs": [],
   "source": []
  }
 ],
 "metadata": {
  "colab": {
   "collapsed_sections": [],
   "name": "credit-card-fraud-detection.ipynb",
   "provenance": []
  },
  "kernelspec": {
   "display_name": "Python 3",
   "language": "python",
   "name": "python3"
  },
  "language_info": {
   "codemirror_mode": {
    "name": "ipython",
    "version": 3
   },
   "file_extension": ".py",
   "mimetype": "text/x-python",
   "name": "python",
   "nbconvert_exporter": "python",
   "pygments_lexer": "ipython3",
   "version": "3.8.5"
  }
 },
 "nbformat": 4,
 "nbformat_minor": 1
}
